{
 "cells": [
  {
   "cell_type": "markdown",
   "id": "e6ef0c9e",
   "metadata": {},
   "source": [
    "We'll first define the inputs to the model. These will be read into the notebook from csv files."
   ]
  },
  {
   "cell_type": "code",
   "execution_count": 1,
   "id": "3fce189f",
   "metadata": {},
   "outputs": [],
   "source": [
    "# Load packages\n",
    "import numpy as np\n",
    "import pandas as pd"
   ]
  },
  {
   "cell_type": "code",
   "execution_count": 3,
   "id": "2b3dfb55-b7f0-46a2-9bb5-b4c0dfa080d8",
   "metadata": {},
   "outputs": [
    {
     "name": "stderr",
     "output_type": "stream",
     "text": [
      "/tmp/ipykernel_8503/794589816.py:3: DtypeWarning: Columns (26,28,67,91,105,122,124,137,138) have mixed types. Specify dtype option on import or set low_memory=False.\n",
      "  trip_df = pd.read_csv(\"/workspaces/CIVE_461/Group Project/Data/trips_all.csv\")\n",
      "/tmp/ipykernel_8503/794589816.py:5: DtypeWarning: Columns (58) have mixed types. Specify dtype option on import or set low_memory=False.\n",
      "  hh_df = pd.read_csv(\"/workspaces/CIVE_461/Group Project/Data/hh_all.csv\")\n"
     ]
    }
   ],
   "source": [
    "# Load in the trips csv file\n",
    "# NOTE: As written, this will search back one directory level from the current file and in a \"Data\" folder containing the datasets. The reference will be different unless you define the same directory structure.\n",
    "trip_df = pd.read_csv(\"/workspaces/CIVE_461/Group Project/Data/trips_all.csv\")\n",
    "# We want to be able to filter by home location (not given in trip data) so need hh_all.csv\n",
    "hh_df = pd.read_csv(\"/workspaces/CIVE_461/Group Project/Data/hh_all.csv\")\n",
    "trip_df = trip_df.merge(hh_df.loc[:,[\"UID\",\"hh_cbsa\"]], on=\"UID\")\n",
    "# Filter for your given CBSA\n",
    "my_trips = trip_df.loc[(trip_df.hh_cbsa==\"40900\")]"
   ]
  },
  {
   "cell_type": "code",
   "execution_count": 4,
   "id": "3a82e789-8278-4294-8c13-0b53f23eb08e",
   "metadata": {},
   "outputs": [
    {
     "name": "stdout",
     "output_type": "stream",
     "text": [
      "400 400\n",
      "23538.0 23538.000000000007\n",
      "23576.0 23573.0\n"
     ]
    }
   ],
   "source": [
    "# Origin trip total is the county of trips in the trip table by origin zipcode where zipcode > 0\n",
    "# I.e., it's a real zipcode\n",
    "o_trips = my_trips.loc[my_trips.o_zip>0].groupby(\"o_zip\").count()[\"sampno\"]\n",
    "# Destination trip total is the county of trips in the trip table by destination zipcode where zipcode > 0\n",
    "# I.e., it's a real zipcode\n",
    "d_trips = my_trips.loc[my_trips.d_zip>0].groupby(\"d_zip\").count()[\"sampno\"]\n",
    "# Origin and destination zipcodes may not be consistent, so we need to perform some adjustments to them.\n",
    "od_check = o_trips.ne(d_trips)\n",
    "od_check.update(o_trips)\n",
    "o_trips = od_check\n",
    "# Set the origin total equal to zero where it appears in the destination list but  not origin list\n",
    "o_trips[o_trips==True] = 0\n",
    "od_check = d_trips.ne(o_trips)\n",
    "od_check.update(d_trips)\n",
    "d_trips = od_check\n",
    "# Set the destination total equal to zero where it appears in the origin list but  not destination list\n",
    "d_trips[d_trips==True] = 0\n",
    "\n",
    "# Make sure origin total = destination total\n",
    "filt_o_trips = o_trips.loc[(o_trips>0) * (d_trips>0)]\n",
    "filt_d_trips = d_trips.loc[(o_trips>0) * (d_trips>0)]\n",
    "\n",
    "if (filt_o_trips.sum()<filt_d_trips.sum()):\n",
    "    filt_o_trips = filt_o_trips * filt_d_trips.sum()/filt_o_trips.sum()\n",
    "else:\n",
    "    filt_d_trips = filt_d_trips * filt_o_trips.sum()/filt_d_trips.sum()\n",
    "    \n",
    "# Print some diagnostics to check everything is working nicely\n",
    "# The total origin rows should equal the total destination rows - i.e., 438 for my dataset\n",
    "print(filt_o_trips.shape[0],filt_d_trips.shape[0])\n",
    "# The total trips should be equal in the final dataset\n",
    "print(filt_o_trips.sum(),filt_d_trips.sum())\n",
    "# The total trips may not be equal in the unadjusted dataset\n",
    "print(o_trips.sum(),d_trips.sum())"
   ]
  },
  {
   "cell_type": "code",
   "execution_count": 5,
   "id": "d4ee1280-793f-4917-880a-6aec8c1852cb",
   "metadata": {
    "tags": []
   },
   "outputs": [],
   "source": [
    "# Create a dataframe with the origin/destination zone pairs as indices and a blank column to fill with travel times \n",
    "index = pd.MultiIndex.from_product([filt_o_trips.index,filt_d_trips.index], names=[\"o_zip\",\"d_zip\"])\n",
    "tt_trips = pd.DataFrame(index=index,columns=[\"trvlcmin\"])\n",
    "\n",
    "# Get the travel time for trips with auto modes between o_zip and d_zip\n",
    "fill_tt_trips1 = my_trips.loc[(my_trips.trptrans>2) & (my_trips.trptrans<7)].groupby([\"o_zip\",\"d_zip\"]).trvlcmin.mean()\n",
    "my_trips2 = my_trips.rename(columns={\"o_zip\":\"d_zip1\", \"d_zip\":\"o_zip1\"})\n",
    "# Increase the coverage of the travel time data by swapping the origin/destination zones and repeating process\n",
    "fill_tt_trips2 = my_trips2.loc[(my_trips2.trptrans>2) & (my_trips2.trptrans<7)].groupby([\"o_zip1\",\"d_zip1\"]).trvlcmin.mean()\n",
    "tt_trips.update(fill_tt_trips1)\n",
    "tt_trips.update(fill_tt_trips2)\n",
    "tt_trips = tt_trips.reset_index()\n",
    "# Some travel times are small or inconsistent. Set them to 5 minutes as an average intrazonal time.\n",
    "tt_trips.loc[tt_trips.trvlcmin<5,\"trvlcmin\"] = 5\n",
    "\n",
    "# Pivot the origin/destination locations (o_zip/d_zip) into row/column indices and fill empty cells with 99 min. travel time.\n",
    "tij = tt_trips.pivot(index=\"o_zip\",columns=\"d_zip\",values=\"trvlcmin\").fillna(99).values\n",
    "Oi = filt_o_trips.values\n",
    "Dj = filt_d_trips.values"
   ]
  },
  {
   "cell_type": "markdown",
   "id": "e80606df",
   "metadata": {
    "tags": []
   },
   "source": [
    "# Basic Gravity Model\n",
    "We will define a function to handle the iterations. The impedance function is given by $f_{ij}=0.45exp(-t_{ij})$."
   ]
  },
  {
   "cell_type": "markdown",
   "id": "517869b7",
   "metadata": {},
   "source": [
    "## Destination-based Gravity Model"
   ]
  },
  {
   "cell_type": "code",
   "execution_count": 6,
   "id": "84a0393f",
   "metadata": {},
   "outputs": [],
   "source": [
    "\"\"\"\n",
    "This function maintains the origin constrain\n",
    "It can be iteratively called to update the destination totals to match destination constraints - i.e., perform a gravity update.\n",
    "Inputs:\n",
    "Oi = known origin trip totals by zone\n",
    "Dj = known destination trip totals by zone\n",
    "tij = known travel time between origin zone i and destination zone j\n",
    "Returns:\n",
    "A 2D array of trip totals by i/j zone pair\n",
    "\"\"\"\n",
    "def dest_gravity(Oi,Dj,tij):\n",
    "    Dj_new = Dj\n",
    "    fij = 0.45*np.exp(-1*tij) # The impedance function is given by the inverse of the squared tij travel times\n",
    "    # Denominator of gravity expression = element-wise sum D_j x f_ij across columns\n",
    "    denom = (Dj_new*fij).sum(axis=1)\n",
    "    Tij = np.ones((Oi.shape[0],Dj.shape[0])) # Define an array with correct dimensions to update\n",
    "    # Trips are given by Oi x Dj_new x fij / denom\n",
    "    for i in range(Oi.shape[0]):\n",
    "            Tij[i,:] = Oi[i] * Dj_new * fij[i,:] / denom[i]\n",
    "    return(Tij)"
   ]
  },
  {
   "cell_type": "markdown",
   "id": "a6fe1cb6",
   "metadata": {},
   "source": [
    "We will define a loop at continues until all $R_i$ factors are below an $\\epsilon$ difference from 1.0 as user-defined (we're use 2%)."
   ]
  },
  {
   "cell_type": "markdown",
   "id": "ada6a823",
   "metadata": {},
   "source": [
    "Now let's define the full gravity model with an iterative call to dest_gravity()."
   ]
  },
  {
   "cell_type": "code",
   "execution_count": 7,
   "id": "2516e36b",
   "metadata": {
    "scrolled": true
   },
   "outputs": [
    {
     "name": "stdout",
     "output_type": "stream",
     "text": [
      "Iteration 50\n",
      "Current max. epsilon 0.5018837231196156\n",
      "Iteration 100\n",
      "Current max. epsilon 0.362780000678371\n",
      "Iteration 150\n",
      "Current max. epsilon 0.25057893369674056\n",
      "Iteration 200\n",
      "Current max. epsilon 0.1930956958526613\n",
      "Iteration 250\n",
      "Current max. epsilon 0.1404107357008597\n",
      "Iteration 300\n",
      "Current max. epsilon 0.1189633863758699\n",
      "Iteration 350\n",
      "Current max. epsilon 0.10338734711070141\n",
      "Iteration 400\n",
      "Current max. epsilon 0.07276351509272772\n",
      "Iteration 450\n",
      "Current max. epsilon 0.07202356946544519\n",
      "Iteration 500\n",
      "Current max. epsilon 0.0589707784859852\n",
      "Iteration 550\n",
      "Current max. epsilon 0.027435104613072525\n",
      "Final Tij\n",
      " [[5.00000000e+00 1.14399657e-38 3.92330356e-20 ... 7.83851994e-20\n",
      "  1.35335149e-37 4.03940013e-48]\n",
      " [1.65285031e-36 4.00000000e+00 4.53472235e-18 ... 9.06009720e-18\n",
      "  1.56426164e-35 4.66891174e-46]\n",
      " [1.97806306e-56 1.58245045e-56 2.00000000e+00 ... 1.08427505e-37\n",
      "  1.87204379e-55 5.58756094e-66]\n",
      " ...\n",
      " [7.62688989e-21 6.10151191e-21 2.09249608e-02 ... 4.18067886e-02\n",
      "  7.21810750e-20 1.99364977e+00]\n",
      " [1.28387744e-36 1.02710195e-36 3.52241682e-18 ... 7.03757280e-18\n",
      "  1.21506480e-35 3.62665053e-46]\n",
      " [3.94286050e-49 3.15428840e-49 1.08175420e-30 ... 2.00000000e+00\n",
      "  3.73153296e-48 1.11376496e-58]]\n"
     ]
    }
   ],
   "source": [
    "eps = 0.02 # Check against a 2% difference\n",
    "\n",
    "eps_vector = np.ones(Oi.shape[0]) # Epsilon vector to be updated as we run the gravity model\n",
    "Tij = np.ones(tij.shape) # Define a container to store OD trip data that has the correct dimensions\n",
    "\n",
    "i = 1 # define an iteration counter\n",
    "\n",
    "while (max(eps_vector)>eps):\n",
    "    if i==1:\n",
    "        Dj_new = Dj\n",
    "    else:\n",
    "        Dj_new = Dj_new*Rj\n",
    "        \n",
    "    Tij = dest_gravity(Oi,Dj_new,tij)\n",
    "    Rj = Dj/Tij.sum(axis=0)\n",
    "    eps_vector = np.abs(Rj-1)\n",
    "    # Print every 50th iteration\n",
    "    if(i%50==0):\n",
    "        print(\"Iteration\", i)\n",
    "        print(\"Current max. epsilon\", max(eps_vector))\n",
    "    i+=1\n",
    "print(\"Final Tij\\n\", Tij)"
   ]
  },
  {
   "cell_type": "markdown",
   "id": "2167f2f6",
   "metadata": {},
   "source": [
    "## Origin-based Gravity Model\n",
    "The same procedure can be used based on adjusting the origin totals and fixing the destination totals."
   ]
  },
  {
   "cell_type": "code",
   "execution_count": 8,
   "id": "c3be9a5b",
   "metadata": {},
   "outputs": [],
   "source": [
    "\"\"\"\n",
    "This function maintains the origin constraint\n",
    "It can be iteratively called to update the origin totals to match origin constraints - i.e., perform a gravity update.\n",
    "Inputs:\n",
    "Oi = known origin trip totals by zone\n",
    "Dj = known destination trip totals by zone\n",
    "tij = known travel time between origin zone i and destination zone j\n",
    "Returns:\n",
    "A 2D array of trip totals by i/j zone pair\n",
    "\"\"\"\n",
    "def origin_gravity(Oi,Dj,tij):\n",
    "    Oi_new = Oi\n",
    "    fij = 0.45*np.exp(-1*tij) # The impedance function is given by the inverse of the squared tij travel times\n",
    "    # Denominator of gravity expression = element-wise sum D_j x f_ij across columns\n",
    "    denom = (Oi_new*fij.transpose()).sum(axis=1) # switch summation dimension from dest_gravity\n",
    "    # Trips are given by Oi x Dj_new x fij / denom\n",
    "    for j in range(Oi.shape[0]):\n",
    "            Tij[:,j] = Oi_new * Dj[j] * fij[:,j] / denom[j]\n",
    "    return(Tij)"
   ]
  },
  {
   "cell_type": "code",
   "execution_count": 9,
   "id": "15c39cc2",
   "metadata": {},
   "outputs": [
    {
     "name": "stdout",
     "output_type": "stream",
     "text": [
      "Iteration 50\n",
      "Current max. epsilon 0.6614373061540666\n",
      "Iteration 100\n",
      "Current max. epsilon 0.33381964830528243\n",
      "Iteration 150\n",
      "Current max. epsilon 0.24770202624233328\n",
      "Iteration 200\n",
      "Current max. epsilon 0.18278432473186979\n",
      "Iteration 250\n",
      "Current max. epsilon 0.1370551818898511\n",
      "Iteration 300\n",
      "Current max. epsilon 0.10640317890329265\n",
      "Iteration 350\n",
      "Current max. epsilon 0.10627535505220298\n",
      "Iteration 400\n",
      "Current max. epsilon 0.07522778532743257\n",
      "Iteration 450\n",
      "Current max. epsilon 0.035023202632278316\n",
      "Iteration 500\n",
      "Current max. epsilon 0.021903427841653667\n",
      "Final Tij\n",
      " [[5.00638081e+00 1.65495962e-36 3.14794159e-21 ... 6.39993805e-21\n",
      "  1.05382918e-36 3.29123962e-49]\n",
      " [1.14545649e-38 4.00510465e+00 2.51835327e-21 ... 5.11995044e-21\n",
      "  8.43063342e-37 2.63299170e-49]\n",
      " [2.46127994e-55 2.84485281e-53 1.99421395e+00 ... 1.10014054e-37\n",
      "  1.81151786e-53 5.65759563e-66]\n",
      " ...\n",
      " [9.41442348e-20 1.08815940e-17 2.06981621e-02 ... 4.20804997e-02\n",
      "  6.92907619e-18 2.00255232e+00]\n",
      " [1.65278037e-37 1.91035437e-35 3.63373457e-20 ... 7.38758185e-20\n",
      "  1.21645698e-35 3.79914648e-48]\n",
      " [4.82133706e-48 5.57270794e-46 1.05999922e-30 ... 1.99422384e+00\n",
      "  3.54853506e-46 1.10825165e-58]]\n"
     ]
    }
   ],
   "source": [
    "eps = 0.02 # Check against a 2% difference\n",
    "\n",
    "eps_vector = np.ones(Oi.shape[0]) # Epsilon vector to be updated as we run the gravity model\n",
    "Tij = np.ones(tij.shape) # Define a container to store OD trip data that has the correct dimensions\n",
    "\n",
    "i = 1 # define an iteration counter\n",
    "\n",
    "while (max(eps_vector)>eps):\n",
    "#while (i<3):\n",
    "    if i==1:\n",
    "        Oi_new = Oi\n",
    "    else:\n",
    "        Oi_new = Oi_new*Ri\n",
    "\n",
    "    Tij = origin_gravity(Oi_new,Dj,tij)\n",
    "    Ri = Oi/Tij.sum(axis=1) # switch summation dimension from dest_gravity\n",
    "    eps_vector = np.abs(Ri-1)\n",
    "    # Print every 50th iteration\n",
    "    if(i%50==0):\n",
    "        print(\"Iteration\", i)\n",
    "        print(\"Current max. epsilon\", max(eps_vector))\n",
    "    i+=1\n",
    "print(\"Final Tij\\n\", Tij)"
   ]
  },
  {
   "cell_type": "markdown",
   "id": "c107087a",
   "metadata": {},
   "source": [
    "## Comparing to Entropy Formulation\n",
    "We can also use an entropy formulation, which gives the same result as the gravity formulation."
   ]
  },
  {
   "cell_type": "code",
   "execution_count": 10,
   "id": "5f9d2e6f",
   "metadata": {},
   "outputs": [],
   "source": [
    "\"\"\"\n",
    "This function maintains the origin constrain\n",
    "It can be iteratively called to update the destination totals to match destination constraints - i.e., perform an entropy update.\n",
    "Inputs:\n",
    "Oi = known origin trip totals by zone\n",
    "Dj = known destination trip totals by zone\n",
    "tij = known travel time between origin zone i and destination zone j\n",
    "Returns:\n",
    "A 2D array of trip totals by i/j zone pair\n",
    "\"\"\"\n",
    "def dest_entropy(Oi,Dj,tij):\n",
    "    Bj = np.ones(Dj.shape[0])\n",
    "    Ai = 1/Bj\n",
    "    fij = 0.45*np.exp(-1*tij) # The impedance function is given by the inverse of the squared tij travel times\n",
    "    # Denominator of gravity expression = element-wise sum D_j x f_ij across columns\n",
    "    denom = (Dj*Bj*fij).sum(axis=1)\n",
    "    Tij = np.ones((Oi.shape[0],Dj.shape[0])) # Define an array with correct dimensions to update\n",
    "    # Trips are given by Oi x Dj_new x fij / denom\n",
    "    for i in range(Oi.shape[0]):\n",
    "            Tij[i,:] = Ai*Oi[i] * Dj * fij[i,:] / denom[i]\n",
    "    return(Tij)"
   ]
  },
  {
   "cell_type": "code",
   "execution_count": 11,
   "id": "7259c42c",
   "metadata": {},
   "outputs": [
    {
     "name": "stdout",
     "output_type": "stream",
     "text": [
      "Iteration 50\n",
      "Current max. epsilon 0.5018837231196156\n",
      "Iteration 100\n",
      "Current max. epsilon 0.362780000678371\n",
      "Iteration 150\n",
      "Current max. epsilon 0.25057893369674056\n",
      "Iteration 200\n",
      "Current max. epsilon 0.1930956958526613\n",
      "Iteration 250\n",
      "Current max. epsilon 0.1404107357008597\n",
      "Iteration 300\n",
      "Current max. epsilon 0.1189633863758699\n",
      "Iteration 350\n",
      "Current max. epsilon 0.10338734711070141\n",
      "Iteration 400\n",
      "Current max. epsilon 0.07276351509272772\n",
      "Iteration 450\n",
      "Current max. epsilon 0.07202356946544519\n",
      "Iteration 500\n",
      "Current max. epsilon 0.0589707784859852\n",
      "Iteration 550\n",
      "Current max. epsilon 0.027435104613072525\n",
      "Final Tij\n",
      " [[5.00000000e+00 1.14399657e-38 3.92330356e-20 ... 7.83851994e-20\n",
      "  1.35335149e-37 4.03940013e-48]\n",
      " [1.65285031e-36 4.00000000e+00 4.53472235e-18 ... 9.06009720e-18\n",
      "  1.56426164e-35 4.66891174e-46]\n",
      " [1.97806306e-56 1.58245045e-56 2.00000000e+00 ... 1.08427505e-37\n",
      "  1.87204379e-55 5.58756094e-66]\n",
      " ...\n",
      " [7.62688989e-21 6.10151191e-21 2.09249608e-02 ... 4.18067886e-02\n",
      "  7.21810750e-20 1.99364977e+00]\n",
      " [1.28387744e-36 1.02710195e-36 3.52241682e-18 ... 7.03757280e-18\n",
      "  1.21506480e-35 3.62665053e-46]\n",
      " [3.94286050e-49 3.15428840e-49 1.08175420e-30 ... 2.00000000e+00\n",
      "  3.73153296e-48 1.11376496e-58]]\n"
     ]
    }
   ],
   "source": [
    "eps = 0.02 # Check against a 2% difference\n",
    "\n",
    "eps_vector = np.ones(Oi.shape[0]) # Epsilon vector to be updated as we run the gravity model\n",
    "Tij = np.ones(tij.shape) # Define a container to store OD trip data that has the correct dimensions\n",
    "\n",
    "i = 1 # define an iteration counter\n",
    "\n",
    "while (max(eps_vector)>eps):\n",
    "    if i==1:\n",
    "        Dj_new = Dj\n",
    "    else:\n",
    "        Dj_new = Dj_new*Rj\n",
    "        \n",
    "    Tij = dest_entropy(Oi,Dj_new,tij)\n",
    "    Rj = Dj/Tij.sum(axis=0)\n",
    "    eps_vector = np.abs(Rj-1)\n",
    "    # Print every 50th iteration\n",
    "    if(i%50==0):\n",
    "        print(\"Iteration\", i)\n",
    "        print(\"Current max. epsilon\", max(eps_vector))\n",
    "    i+=1\n",
    "print(\"Final Tij\\n\", Tij)"
   ]
  },
  {
   "cell_type": "markdown",
   "id": "09015e67",
   "metadata": {},
   "source": [
    "# Biproportional Updating\n",
    "Another common task that can benefit from a \"gravity style\" approach is biproportional updating to match future O-D trip matrices. Let's define a base year table that we will then update using this approach."
   ]
  },
  {
   "cell_type": "markdown",
   "id": "d75626e8",
   "metadata": {},
   "source": [
    "## Gravity-Style Update"
   ]
  },
  {
   "cell_type": "code",
   "execution_count": 12,
   "id": "11fde660",
   "metadata": {},
   "outputs": [],
   "source": [
    "# Create a table with dimensions based on origin/destination totals data and random values in [50,150]\n",
    "Tij_base = np.random.randint(50,150,size=(Oi.shape[0],Dj.shape[0]))"
   ]
  },
  {
   "cell_type": "code",
   "execution_count": 13,
   "id": "7ae082a8",
   "metadata": {},
   "outputs": [],
   "source": [
    "def biprop_gravity(Oi, Dj, Tij_base):\n",
    "    Dj_new = Dj\n",
    "    \n",
    "    # Denominator of gravity expression = element-wise sum D_j x f_ij across columns\n",
    "    denom = (Dj_new*Tij_base).sum(axis=1)\n",
    "    Tij = np.ones((Oi.shape[0],Dj.shape[0])) # Define an array with correct dimensions to update\n",
    "    # Trips are given by Oi x Dj_new x fij / denom\n",
    "    for i in range(Oi.shape[0]):\n",
    "            Tij[i,:] = Oi[i] * Dj_new * Tij_base[i,:] / denom[i]\n",
    "    return(Tij)"
   ]
  },
  {
   "cell_type": "code",
   "execution_count": 14,
   "id": "f9dec545",
   "metadata": {
    "scrolled": true
   },
   "outputs": [
    {
     "name": "stdout",
     "output_type": "stream",
     "text": [
      "Iteration 1\n",
      "Current max. Rj 1.127631351730084\n",
      "Iteration 2\n",
      "Current max. Rj 1.0002620348354785\n",
      "Final Tij\n",
      " [[0.0009528  0.00046601 0.00040938 ... 0.0008344  0.00085675 0.00052579]\n",
      " [0.00060334 0.00053023 0.00047379 ... 0.00066847 0.00066792 0.00043454]\n",
      " [0.00035544 0.00019243 0.00023482 ... 0.00030349 0.00025884 0.00014775]\n",
      " ...\n",
      " [0.00171463 0.00056916 0.00060296 ... 0.00066847 0.00063916 0.00038175]\n",
      " [0.00075724 0.00033196 0.0002125  ... 0.00052154 0.00023317 0.00018019]\n",
      " [0.00043909 0.00042385 0.00019199 ... 0.00021493 0.00022317 0.00019451]]\n"
     ]
    }
   ],
   "source": [
    "eps = 1.001 # Check against a 0.1% difference\n",
    "\n",
    "Rj = 10*np.ones(Oi.shape[0]) # Rj vector to be updated as we run the gravity model\n",
    "Tij = Tij_base # Define a container to store OD trip data that has the correct dimensions\n",
    "\n",
    "\n",
    "i = 1 # define an iteration counter\n",
    "\n",
    "while (max(Rj)>eps):\n",
    "    if i==1:\n",
    "        Dj_new = Dj\n",
    "    else:\n",
    "        Dj_new = Dj_new*Rj\n",
    "        \n",
    "    Tij = biprop_gravity(Oi,Dj_new,Tij_base)\n",
    "    Rj = Dj/Tij.sum(axis=0)\n",
    "    print(\"Iteration\", i)\n",
    "    print(\"Current max. Rj\", max(Rj))\n",
    "    i+=1\n",
    "print(\"Final Tij\\n\", Tij)"
   ]
  },
  {
   "cell_type": "markdown",
   "id": "59cef9a4",
   "metadata": {},
   "source": [
    "## Row/Column (Iterative Proportional Updating)\n",
    "A common and very useful technique for updating a trip matrix is called *iterative proportional updating*, or IPF. In this approach, we iterate between adjusting cell totals to match row totals, then column totals, etc."
   ]
  },
  {
   "cell_type": "code",
   "execution_count": 15,
   "id": "f952d0a3",
   "metadata": {},
   "outputs": [],
   "source": [
    "def ipf(Tij,Oi,Dj,i):\n",
    "    if i%2==1: # If it's an add iteration then balance row totals\n",
    "        R = Oi/Tij.sum(axis=1)\n",
    "        Tij =  Tij*R[:,np.newaxis] # Need to add dimension so the multiplication occurs across rows not columns\n",
    "    else: # If it's an odd even iteration then balance column totals\n",
    "        R = Dj/Tij.sum(axis=0)\n",
    "        Tij =  Tij*R # Do not add dimension so the multiplication occurs across columns not rows\n",
    "    \n",
    "    return (Tij, R)\n",
    "    "
   ]
  },
  {
   "cell_type": "code",
   "execution_count": 16,
   "id": "00b8b09b",
   "metadata": {},
   "outputs": [
    {
     "name": "stdout",
     "output_type": "stream",
     "text": [
      "Iteration 1\n",
      "Current max. Ri 0.028221445280076463\n",
      "Current max. Rj 10.0\n",
      "Iteration 2\n",
      "Current max. Ri 0.028221445280076463\n",
      "Current max. Rj 18.053535167379433\n",
      "Iteration 3\n",
      "Current max. Ri 1.1371214563190695\n",
      "Current max. Rj 18.053535167379433\n",
      "Iteration 4\n",
      "Current max. Ri 1.1371214563190695\n",
      "Current max. Rj 1.0046722997517783\n",
      "Iteration 5\n",
      "Current max. Ri 1.0002244645919205\n",
      "Current max. Rj 1.0046722997517783\n",
      "Iteration 6\n",
      "Current max. Ri 1.0002244645919205\n",
      "Current max. Rj 1.0000229092398971\n",
      "Final Tij\n",
      " [[0.0009528422161716177 0.0004660437104181321 0.0004093853862478302 ...\n",
      "  0.0008344191190193858 0.0008567814425475304 0.000525864985252197]\n",
      " [0.0006033706743704806 0.0005302746826838932 0.0004737961415016117 ...\n",
      "  0.0006684851402996562 0.0006679384594732767 0.000434593472889406]\n",
      " [0.0003554538713021061 0.00019244403434217773 0.00023482681222738286 ...\n",
      "  0.0003034983752244989 0.0002588469670863911 0.00014776574939482154]\n",
      " ...\n",
      " [0.0017147021792226346 0.0005692048906274527 0.0006029725640911212 ...\n",
      "  0.0006684835536181357 0.0006391784808993721 0.0003817968056274767]\n",
      " [0.0007572675791769128 0.0003319809922052156 0.00021250863991174464 ...\n",
      "  0.0005215496357465537 0.00023317137305712326 0.000180217221047336]\n",
      " [0.00043910762270667225 0.00042388506924549675 0.00019199107093064005\n",
      "  ... 0.00021493076184534539 0.00022317675795175524\n",
      "  0.00019453669724458445]]\n"
     ]
    }
   ],
   "source": [
    "eps = 1.001 # Check against a 0.1% difference\n",
    "\n",
    "Ri = 10*np.ones(Oi.shape[0]) # Ri vector to be updated as we run the gravity model\n",
    "Rj = 10*np.ones(Dj.shape[0]) # Rj vector to be updated as we run the gravity model\n",
    "\n",
    "Tij = Tij_base # Define a container to store OD trip data that has the correct dimensions\n",
    "\n",
    "i = 1 # define an iteration counter\n",
    "\n",
    "while ((max(Ri)>eps) or (max(Rj)>eps)):\n",
    "    if i%2==1: # If it's an odd iteration then balance row totals\n",
    "        Tij, Ri = ipf(Tij,Oi,Dj,i) \n",
    "    else: # If it's an even iteration then balance column totals\n",
    "        Tij, Rj = ipf(Tij,Oi,Dj,i)\n",
    "\n",
    "    print(\"Iteration\", i)\n",
    "    print(\"Current max. Ri\", max(Ri))\n",
    "    print(\"Current max. Rj\", max(Rj))\n",
    "    i+=1\n",
    "print(\"Final Tij\\n\", Tij)"
   ]
  },
  {
   "cell_type": "markdown",
   "id": "b2117ea3",
   "metadata": {},
   "source": [
    "# Goodness of Fit (GoF) Analysis"
   ]
  },
  {
   "cell_type": "code",
   "execution_count": 19,
   "id": "8c8b1c49",
   "metadata": {
    "scrolled": true
   },
   "outputs": [],
   "source": [
    "# Load the observed data\n",
    "my_obs_trips = my_trips.loc[(my_trips.o_zip.isin(filt_o_trips.index)) & (my_trips.d_zip.isin(filt_d_trips.index)),[\"o_zip\",\"d_zip\",\"sampno\"]]\n",
    "my_obs_trips = my_obs_trips.groupby([\"o_zip\",\"d_zip\"]).count()[\"sampno\"]\n",
    "tot_obs_trips = pd.DataFrame(index=index,columns=[\"sampno\"])\n",
    "tot_obs_trips.update(my_obs_trips)\n",
    "tot_obs_trips.reset_index(inplace=True)\n",
    "Tij_obs = tot_obs_trips.pivot(index=\"o_zip\",columns=\"d_zip\",values=\"sampno\").fillna(0).values\n",
    "# Load the predicted data as the result from the last process above - i.e., row/column IPF\n",
    "Tij_pred = Tij * (Tij_obs.sum()/Tij.sum())"
   ]
  },
  {
   "cell_type": "code",
   "execution_count": 20,
   "id": "25ad17dd-744a-463b-a118-3c746570b137",
   "metadata": {},
   "outputs": [
    {
     "name": "stdout",
     "output_type": "stream",
     "text": [
      "Tij_obs 23369.0\n",
      "Tij_pred 23369.000000000087\n"
     ]
    }
   ],
   "source": [
    "# Check that observed and predicted trip totals are equal before performing GoF analysis\n",
    "print(\"Tij_obs\",Tij_obs.sum())\n",
    "print(\"Tij_pred\",Tij_pred.sum())"
   ]
  },
  {
   "cell_type": "markdown",
   "id": "7687524a",
   "metadata": {},
   "source": [
    "## $R^2$ Determination\n",
    "$R^2 = 1 - \\sum_i\\sum_j(T_{ij}obs-T_{ij}pred)^2/\\sum_i\\sum_j (T_{ij}obs-T_{0})^2$"
   ]
  },
  {
   "cell_type": "code",
   "execution_count": 21,
   "id": "36f83228",
   "metadata": {},
   "outputs": [
    {
     "name": "stdout",
     "output_type": "stream",
     "text": [
      "R2 0.09640745819740881\n"
     ]
    }
   ],
   "source": [
    "To = Tij_obs.sum()/Tij_obs.size\n",
    "R2 = 1 - ((Tij_obs - Tij_pred)**2).sum() / ((Tij_obs - To)**2).sum()\n",
    "print(\"R2\",R2)"
   ]
  },
  {
   "cell_type": "markdown",
   "id": "5b589753",
   "metadata": {},
   "source": [
    "## $\\chi^2$ Determination\n",
    "$\\chi^2 = \\sum_i\\sum_j((T_{ij}obs-T_{ij}pred)^2/T_{ij}pred)$"
   ]
  },
  {
   "cell_type": "code",
   "execution_count": 22,
   "id": "a341019d",
   "metadata": {},
   "outputs": [
    {
     "name": "stdout",
     "output_type": "stream",
     "text": [
      "chi2 3390703.919340746 chi2 test statistic 160930.6024559647\n"
     ]
    }
   ],
   "source": [
    "from scipy.stats import chi2\n",
    "\n",
    "chi_2 = ((Tij_obs - Tij_pred)**2 / Tij_pred).sum()\n",
    "df = Tij_obs.size - 1 # We have no. of observations minus one (because chi2 is a variance measure and takes up on df with differencing) degrees of freedom\n",
    "chi_2_test = chi2.ppf(0.95, df)\n",
    "print(\"chi2\",chi_2, \"chi2 test statistic\", chi_2_test)"
   ]
  },
  {
   "cell_type": "markdown",
   "id": "055389bd",
   "metadata": {},
   "source": [
    "### Mean Absolute Error Determination\n",
    "$MAE = \\sum_i\\sum_j |T_{ij}obs-T_{ij}pred|/n^2$"
   ]
  },
  {
   "cell_type": "code",
   "execution_count": 23,
   "id": "ecdf8fd9",
   "metadata": {},
   "outputs": [
    {
     "name": "stdout",
     "output_type": "stream",
     "text": [
      "MAE 0.21174027472928425\n"
     ]
    }
   ],
   "source": [
    "MAE = np.abs(Tij_obs - Tij_pred).sum() / Tij_obs.size\n",
    "print(\"MAE\",MAE)"
   ]
  },
  {
   "cell_type": "markdown",
   "id": "ae71f648",
   "metadata": {},
   "source": [
    "## Trip Length Distribution\n",
    "We can start by \"stacking\" the tables from matrices into vectors"
   ]
  },
  {
   "cell_type": "code",
   "execution_count": 24,
   "id": "87f6eda9",
   "metadata": {},
   "outputs": [],
   "source": [
    "Tij_obs_vect = np.reshape(Tij_obs,-1)\n",
    "Tij_pred_vect = np.reshape(Tij_pred,-1)\n",
    "Tij_TT_vect = np.reshape(tij,-1)"
   ]
  },
  {
   "cell_type": "markdown",
   "id": "13554556",
   "metadata": {},
   "source": [
    "We can then take the result, combine it into a 2D array (i.e., matrix), and sort the values by travel times (assume travel time is the first column)."
   ]
  },
  {
   "cell_type": "code",
   "execution_count": 25,
   "id": "4204ed8c",
   "metadata": {},
   "outputs": [
    {
     "name": "stdout",
     "output_type": "stream",
     "text": [
      "[[5.0 0.005286747339668516 4.0]\n",
      " [5.0 0.04362596875276138 2.0]\n",
      " [5.0 0.00019969308033970941 1.0]\n",
      " ...\n",
      " [495.0 0.04024513958712164 0.0]\n",
      " [510.0 0.13402226894415964 1.0]\n",
      " [510.0 0.07638185229809207 0.0]]\n"
     ]
    }
   ],
   "source": [
    "comb_matrix = np.vstack((Tij_TT_vect,Tij_pred_vect,Tij_obs_vect)).T # np.hstack() won't work with C-style vectors because row major, so use np.vstack() and transpose\n",
    "comb_matrix = comb_matrix[comb_matrix[:, 0].argsort()] # Sort by the 0th column values\n",
    "print(comb_matrix)"
   ]
  },
  {
   "cell_type": "markdown",
   "id": "2b5b5b20",
   "metadata": {},
   "source": [
    "We want to calculate the cumulative frequency for both observed and predicted values. It would also be nice to have everything in a Pandas ```Dataframe``` with column names."
   ]
  },
  {
   "cell_type": "code",
   "execution_count": 26,
   "id": "7311d91b",
   "metadata": {},
   "outputs": [],
   "source": [
    "df = pd.DataFrame(data=comb_matrix,columns=[\"travel_time\",\"pred_freq\",\"obs_freq\"])\n",
    "df['cum_obs'] = (df[\"obs_freq\"].cumsum()/df[\"obs_freq\"].sum())*100\n",
    "df['cum_pred'] = (df[\"pred_freq\"].cumsum()/df[\"pred_freq\"].sum())*100"
   ]
  },
  {
   "cell_type": "markdown",
   "id": "e80ea026",
   "metadata": {},
   "source": [
    "We can now plot these values using Matplotlib"
   ]
  },
  {
   "cell_type": "code",
   "execution_count": 27,
   "id": "250de003",
   "metadata": {},
   "outputs": [
    {
     "name": "stderr",
     "output_type": "stream",
     "text": [
      "/tmp/ipykernel_8503/2945996976.py:2: MatplotlibDeprecationWarning: The seaborn styles shipped by Matplotlib are deprecated since 3.6, as they no longer correspond to the styles shipped by seaborn. However, they will remain available as 'seaborn-v0_8-<style>'. Alternatively, directly use the seaborn API instead.\n",
      "  plt.style.use('seaborn-whitegrid')\n"
     ]
    },
    {
     "data": {
      "image/png": "[encoded data removed]",
      "text/plain": [
       "<Figure size 1500x1000 with 1 Axes>"
      ]
     },
     "metadata": {},
     "output_type": "display_data"
    }
   ],
   "source": [
    "from matplotlib import pyplot as plt\n",
    "plt.style.use('seaborn-whitegrid')\n",
    "\n",
    "fig, ax = plt.subplots(figsize=(15,10))\n",
    "ax.plot(df['travel_time'], df['cum_obs'], '-b', label='Observed')\n",
    "ax.plot(df['travel_time'], df['cum_pred'], '-g', label='Predicted')\n",
    "ax.legend(loc='upper left', frameon=True);\n",
    "\n",
    "plt.xlabel('Trip Length (in minutes) for Auto Travel')\n",
    "plt.ylabel('Cumulative % Frequency')\n",
    "plt.title('Cumulative Trip Length Distribution');"
   ]
  },
  {
   "cell_type": "code",
   "execution_count": null,
   "id": "7dde9bef",
   "metadata": {},
   "outputs": [],
   "source": []
  }
 ],
 "metadata": {
  "kernelspec": {
   "display_name": "Python 3 (ipykernel)",
   "language": "python",
   "name": "python3"
  },
  "language_info": {
   "codemirror_mode": {
    "name": "ipython",
    "version": 3
   },
   "file_extension": ".py",
   "mimetype": "text/x-python",
   "name": "python",
   "nbconvert_exporter": "python",
   "pygments_lexer": "ipython3",
   "version": "3.10.8"
  }
 },
 "nbformat": 4,
 "nbformat_minor": 5
}
