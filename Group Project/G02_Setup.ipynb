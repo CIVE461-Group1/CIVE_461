{
 "cells": [
  {
   "cell_type": "markdown",
   "id": "e6ef0c9e",
   "metadata": {},
   "source": [
    "We'll first define the inputs to the model. These will be read into the notebook from csv files."
   ]
  },
  {
   "cell_type": "code",
   "execution_count": 2,
   "id": "3fce189f",
   "metadata": {},
   "outputs": [],
   "source": [
    "# Load packages\n",
    "import numpy as np\n",
    "import pandas as pd"
   ]
  },
  {
   "cell_type": "code",
   "execution_count": 3,
   "id": "2b3dfb55-b7f0-46a2-9bb5-b4c0dfa080d8",
   "metadata": {},
   "outputs": [
    {
     "name": "stderr",
     "output_type": "stream",
     "text": [
      "C:\\Users\\jhawkins17\\Anaconda3\\lib\\site-packages\\IPython\\core\\interactiveshell.py:3444: DtypeWarning: Columns (26,28,67,91,122,124,137,138,153,154) have mixed types.Specify dtype option on import or set low_memory=False.\n",
      "  exec(code_obj, self.user_global_ns, self.user_ns)\n",
      "C:\\Users\\jhawkins17\\Anaconda3\\lib\\site-packages\\IPython\\core\\interactiveshell.py:3444: DtypeWarning: Columns (58) have mixed types.Specify dtype option on import or set low_memory=False.\n",
      "  exec(code_obj, self.user_global_ns, self.user_ns)\n"
     ]
    }
   ],
   "source": [
    "# Load in the trips csv file\n",
    "# NOTE: As written, this will search back one directory level from the current file and in a \"Data\" folder containing the datasets. The reference will be different unless you define the same directory structure.\n",
    "trip_df = pd.read_csv(\"../Data/trips_all.csv\")\n",
    "# We want to be able to filter by home location (not given in trip data) so need hh_all.csv\n",
    "hh_df = pd.read_csv(\"../Data/hh_all.csv\")\n",
    "trip_df = trip_df.merge(hh_df.loc[:,[\"UID\",\"hh_cbsa\"]], on=\"UID\")\n",
    "# Filter for your given CBSA\n",
    "my_trips = trip_df.loc[(trip_df.hh_cbsa==\"40900\")]"
   ]
  },
  {
   "cell_type": "code",
   "execution_count": 4,
   "id": "3a82e789-8278-4294-8c13-0b53f23eb08e",
   "metadata": {},
   "outputs": [
    {
     "name": "stdout",
     "output_type": "stream",
     "text": [
      "438 438\n",
      "27282.0 27281.999999999996\n",
      "27340.0 27329.0\n"
     ]
    }
   ],
   "source": [
    "# Origin trip total is the county of trips in the trip table by origin zipcode where zipcode > 0\n",
    "# I.e., it's a real zipcode\n",
    "o_trips = my_trips.loc[my_trips.o_zip>0].groupby(\"o_zip\").count()[\"sampno\"]\n",
    "# Destination trip total is the county of trips in the trip table by destination zipcode where zipcode > 0\n",
    "# I.e., it's a real zipcode\n",
    "d_trips = my_trips.loc[my_trips.d_zip>0].groupby(\"d_zip\").count()[\"sampno\"]\n",
    "# Origin and destination zipcodes may not be consistent, so we need to perform some adjustments to them.\n",
    "od_check = o_trips.ne(d_trips)\n",
    "od_check.update(o_trips)\n",
    "o_trips = od_check\n",
    "# Set the origin total equal to zero where it appears in the destination list but  not origin list\n",
    "o_trips[o_trips==True] = 0\n",
    "od_check = d_trips.ne(o_trips)\n",
    "od_check.update(d_trips)\n",
    "d_trips = od_check\n",
    "# Set the destination total equal to zero where it appears in the origin list but  not destination list\n",
    "d_trips[d_trips==True] = 0\n",
    "\n",
    "# Make sure origin total = destination total\n",
    "filt_o_trips = o_trips.loc[(o_trips>0) * (d_trips>0)]\n",
    "filt_d_trips = d_trips.loc[(o_trips>0) * (d_trips>0)]\n",
    "\n",
    "if (filt_o_trips.sum()<filt_d_trips.sum()):\n",
    "    filt_o_trips = filt_o_trips * filt_d_trips.sum()/filt_o_trips.sum()\n",
    "else:\n",
    "    filt_d_trips = filt_d_trips * filt_o_trips.sum()/filt_d_trips.sum()\n",
    "    \n",
    "# Print some diagnostics to check everything is working nicely\n",
    "# The total origin rows should equal the total destination rows - i.e., 438 for my dataset\n",
    "print(filt_o_trips.shape[0],filt_d_trips.shape[0])\n",
    "# The total trips should be equal in the final dataset\n",
    "print(filt_o_trips.sum(),filt_d_trips.sum())\n",
    "# The total trips may not be equal in the unadjusted dataset\n",
    "print(o_trips.sum(),d_trips.sum())"
   ]
  },
  {
   "cell_type": "code",
   "execution_count": 6,
   "id": "d4ee1280-793f-4917-880a-6aec8c1852cb",
   "metadata": {
    "tags": []
   },
   "outputs": [],
   "source": [
    "# Create a dataframe with the origin/destination zone pairs as indices and a blank column to fill with travel times \n",
    "index = pd.MultiIndex.from_product([filt_o_trips.index,filt_d_trips.index], names=[\"o_zip\",\"d_zip\"])\n",
    "tt_trips = pd.DataFrame(index=index,columns=[\"trvlcmin\"])\n",
    "\n",
    "# Get the travel time for trips with auto modes between o_zip and d_zip\n",
    "fill_tt_trips1 = my_trips.loc[(my_trips.trptrans>2) & (my_trips.trptrans<7)].groupby([\"o_zip\",\"d_zip\"]).trvlcmin.mean()\n",
    "my_trips2 = my_trips.rename(columns={\"o_zip\":\"d_zip1\", \"d_zip\":\"o_zip1\"})\n",
    "# Increase the coverage of the travel time data by swapping the origin/destination zones and repeating process\n",
    "fill_tt_trips2 = my_trips2.loc[(my_trips2.trptrans>2) & (my_trips2.trptrans<7)].groupby([\"o_zip1\",\"d_zip1\"]).trvlcmin.mean()\n",
    "tt_trips.update(fill_tt_trips1)\n",
    "tt_trips.update(fill_tt_trips2)\n",
    "tt_trips = tt_trips.reset_index()\n",
    "# Some travel times are small or inconsistent. Set them to 5 minutes as an average intrazonal time.\n",
    "tt_trips.loc[tt_trips.trvlcmin<5,\"trvlcmin\"] = 5\n",
    "\n",
    "# Pivot the origin/destination locations (o_zip/d_zip) into row/column indices and fill empty cells with 99 min. travel time.\n",
    "tij = tt_trips.pivot(index=\"o_zip\",columns=\"d_zip\",values=\"trvlcmin\").fillna(99).values\n",
    "Oi = filt_o_trips.values\n",
    "Dj = filt_d_trips.values"
   ]
  },
  {
   "cell_type": "markdown",
   "id": "e80606df",
   "metadata": {
    "tags": []
   },
   "source": [
    "# Basic Gravity Model\n",
    "We will define a function to handle the iterations. The impedance function is given by $f_{ij}=0.45exp(-t_{ij})$."
   ]
  },
  {
   "cell_type": "markdown",
   "id": "517869b7",
   "metadata": {},
   "source": [
    "## Destination-based Gravity Model"
   ]
  },
  {
   "cell_type": "code",
   "execution_count": 7,
   "id": "84a0393f",
   "metadata": {},
   "outputs": [],
   "source": [
    "\"\"\"\n",
    "This function maintains the origin constrain\n",
    "It can be iteratively called to update the destination totals to match destination constraints - i.e., perform a gravity update.\n",
    "Inputs:\n",
    "Oi = known origin trip totals by zone\n",
    "Dj = known destination trip totals by zone\n",
    "tij = known travel time between origin zone i and destination zone j\n",
    "Returns:\n",
    "A 2D array of trip totals by i/j zone pair\n",
    "\"\"\"\n",
    "def dest_gravity(Oi,Dj,tij):\n",
    "    Dj_new = Dj\n",
    "    fij = 0.45*np.exp(-1*tij) # The impedance function is given by the inverse of the squared tij travel times\n",
    "    # Denominator of gravity expression = element-wise sum D_j x f_ij across columns\n",
    "    denom = (Dj_new*fij).sum(axis=1)\n",
    "    Tij = np.ones((Oi.shape[0],Dj.shape[0])) # Define an array with correct dimensions to update\n",
    "    # Trips are given by Oi x Dj_new x fij / denom\n",
    "    for i in range(Oi.shape[0]):\n",
    "            Tij[i,:] = Oi[i] * Dj_new * fij[i,:] / denom[i]\n",
    "    return(Tij)"
   ]
  },
  {
   "cell_type": "markdown",
   "id": "a6fe1cb6",
   "metadata": {},
   "source": [
    "We will define a loop at continues until all $R_i$ factors are below an $\\epsilon$ difference from 1.0 as user-defined (we're use 2%)."
   ]
  },
  {
   "cell_type": "markdown",
   "id": "ada6a823",
   "metadata": {},
   "source": [
    "Now let's define the full gravity model with an iterative call to dest_gravity()."
   ]
  },
  {
   "cell_type": "code",
   "execution_count": 8,
   "id": "2516e36b",
   "metadata": {
    "scrolled": true
   },
   "outputs": [
    {
     "name": "stdout",
     "output_type": "stream",
     "text": [
      "Iteration 50\n",
      "Current max. epsilon 0.5727136928167897\n",
      "Iteration 100\n",
      "Current max. epsilon 0.37066072358579394\n",
      "Iteration 150\n",
      "Current max. epsilon 0.2503283571398671\n",
      "Iteration 200\n",
      "Current max. epsilon 0.1977117976510261\n",
      "Iteration 250\n",
      "Current max. epsilon 0.15524422919982483\n",
      "Iteration 300\n",
      "Current max. epsilon 0.09600127982311912\n",
      "Iteration 350\n",
      "Current max. epsilon 0.09599433833715776\n",
      "Iteration 400\n",
      "Current max. epsilon 0.09547568769992432\n",
      "Iteration 450\n",
      "Current max. epsilon 0.07172629381496565\n",
      "Iteration 500\n",
      "Current max. epsilon 0.06372891659143942\n",
      "Iteration 550\n",
      "Current max. epsilon 0.03372903952656614\n",
      "Iteration 600\n",
      "Current max. epsilon 0.03196971486460076\n",
      "Iteration 650\n",
      "Current max. epsilon 0.031963939502648975\n",
      "Iteration 700\n",
      "Current max. epsilon 0.03195585735552631\n",
      "Iteration 750\n",
      "Current max. epsilon 0.0319211022597099\n",
      "Iteration 800\n",
      "Current max. epsilon 0.0317841244600372\n",
      "Iteration 850\n",
      "Current max. epsilon 0.031247635427795073\n",
      "Iteration 900\n",
      "Current max. epsilon 0.029340850269442553\n",
      "Iteration 950\n",
      "Current max. epsilon 0.0244967039950168\n",
      "Final Tij\n",
      " [[5.00000000e+00 1.14399657e-38 4.41360950e-19 ... 8.86888526e-19\n",
      "  1.13714916e-38 1.15088526e-38]\n",
      " [1.65285031e-36 4.00000000e+00 5.10143896e-17 ... 1.02510376e-16\n",
      "  1.31436572e-36 1.33024249e-36]\n",
      " [1.75832091e-57 1.40665673e-57 2.00000000e+00 ... 1.09051700e-37\n",
      "  1.39823716e-57 1.41512705e-57]\n",
      " ...\n",
      " [2.88651637e-22 2.30921310e-22 8.90908691e-03 ... 1.79022792e-02\n",
      "  2.29539127e-22 2.32311825e-22]\n",
      " [4.51996731e-36 3.61597385e-36 1.39506507e-16 ... 2.80330012e-16\n",
      "  4.00000000e+00 3.10959566e-14]\n",
      " [6.04406467e-37 4.83525173e-37 1.86547001e-17 ... 3.74855082e-17\n",
      "  2.42833713e-05 3.99997572e+00]]\n"
     ]
    }
   ],
   "source": [
    "eps = 0.02 # Check against a 2% difference\n",
    "\n",
    "eps_vector = np.ones(Oi.shape[0]) # Epsilon vector to be updated as we run the gravity model\n",
    "Tij = np.ones(tij.shape) # Define a container to store OD trip data that has the correct dimensions\n",
    "\n",
    "i = 1 # define an iteration counter\n",
    "\n",
    "while (max(eps_vector)>eps):\n",
    "    if i==1:\n",
    "        Dj_new = Dj\n",
    "    else:\n",
    "        Dj_new = Dj_new*Rj\n",
    "        \n",
    "    Tij = dest_gravity(Oi,Dj_new,tij)\n",
    "    Rj = Dj/Tij.sum(axis=0)\n",
    "    eps_vector = np.abs(Rj-1)\n",
    "    # Print every 50th iteration\n",
    "    if(i%50==0):\n",
    "        print(\"Iteration\", i)\n",
    "        print(\"Current max. epsilon\", max(eps_vector))\n",
    "    i+=1\n",
    "print(\"Final Tij\\n\", Tij)"
   ]
  },
  {
   "cell_type": "markdown",
   "id": "2167f2f6",
   "metadata": {},
   "source": [
    "## Origin-based Gravity Model\n",
    "The same procedure can be used based on adjusting the origin totals and fixing the destination totals."
   ]
  },
  {
   "cell_type": "code",
   "execution_count": 9,
   "id": "c3be9a5b",
   "metadata": {},
   "outputs": [],
   "source": [
    "\"\"\"\n",
    "This function maintains the origin constraint\n",
    "It can be iteratively called to update the origin totals to match origin constraints - i.e., perform a gravity update.\n",
    "Inputs:\n",
    "Oi = known origin trip totals by zone\n",
    "Dj = known destination trip totals by zone\n",
    "tij = known travel time between origin zone i and destination zone j\n",
    "Returns:\n",
    "A 2D array of trip totals by i/j zone pair\n",
    "\"\"\"\n",
    "def origin_gravity(Oi,Dj,tij):\n",
    "    Oi_new = Oi\n",
    "    fij = 0.45*np.exp(-1*tij) # The impedance function is given by the inverse of the squared tij travel times\n",
    "    # Denominator of gravity expression = element-wise sum D_j x f_ij across columns\n",
    "    denom = (Oi_new*fij.transpose()).sum(axis=1) # switch summation dimension from dest_gravity\n",
    "    # Trips are given by Oi x Dj_new x fij / denom\n",
    "    for j in range(Oi.shape[0]):\n",
    "            Tij[:,j] = Oi_new * Dj[j] * fij[:,j] / denom[j]\n",
    "    return(Tij)"
   ]
  },
  {
   "cell_type": "code",
   "execution_count": 10,
   "id": "15c39cc2",
   "metadata": {},
   "outputs": [
    {
     "name": "stdout",
     "output_type": "stream",
     "text": [
      "Iteration 50\n",
      "Current max. epsilon 0.6587258186726359\n",
      "Iteration 100\n",
      "Current max. epsilon 0.3337324271703498\n",
      "Iteration 150\n",
      "Current max. epsilon 0.24351429289513282\n",
      "Iteration 200\n",
      "Current max. epsilon 0.16715801650365525\n",
      "Iteration 250\n",
      "Current max. epsilon 0.15433667542784346\n",
      "Iteration 300\n",
      "Current max. epsilon 0.11965124984773756\n",
      "Iteration 350\n",
      "Current max. epsilon 0.08759237548406773\n",
      "Iteration 400\n",
      "Current max. epsilon 0.08759007247426775\n",
      "Iteration 450\n",
      "Current max. epsilon 0.0873019212886903\n",
      "Iteration 500\n",
      "Current max. epsilon 0.06384410785682626\n",
      "Iteration 550\n",
      "Current max. epsilon 0.02727355619658922\n",
      "Iteration 600\n",
      "Current max. epsilon 0.024806598278554914\n",
      "Iteration 650\n",
      "Current max. epsilon 0.023301467905050055\n",
      "Iteration 700\n",
      "Current max. epsilon 0.022319915108825028\n",
      "Iteration 750\n",
      "Current max. epsilon 0.02138656377641135\n",
      "Final Tij\n",
      " [[5.00348458e+00 1.65400221e-36 1.31799777e-20 ... 2.63472366e-20\n",
      "  4.34223918e-36 6.29998296e-37]\n",
      " [1.14479384e-38 4.00278766e+00 1.05439821e-20 ... 2.10777893e-20\n",
      "  3.47379134e-36 5.03998637e-37]\n",
      " [5.89491648e-56 6.81359704e-54 2.00091076e+00 ... 1.08536405e-37\n",
      "  1.78876835e-53 2.59525320e-54]\n",
      " ...\n",
      " [9.71337726e-21 1.12271376e-18 8.94638606e-03 ... 1.78841388e-02\n",
      "  2.94745173e-18 4.27634106e-19]\n",
      " [1.18529299e-38 1.37001243e-36 1.09169946e-20 ... 2.18234543e-20\n",
      "  4.00261815e+00 4.46066010e-15]\n",
      " [1.10568015e-38 1.27799249e-36 1.01837303e-20 ... 2.03576333e-20\n",
      "  1.69513049e-04 4.00278766e+00]]\n"
     ]
    }
   ],
   "source": [
    "eps = 0.02 # Check against a 2% difference\n",
    "\n",
    "eps_vector = np.ones(Oi.shape[0]) # Epsilon vector to be updated as we run the gravity model\n",
    "Tij = np.ones(tij.shape) # Define a container to store OD trip data that has the correct dimensions\n",
    "\n",
    "i = 1 # define an iteration counter\n",
    "\n",
    "while (max(eps_vector)>eps):\n",
    "#while (i<3):\n",
    "    if i==1:\n",
    "        Oi_new = Oi\n",
    "    else:\n",
    "        Oi_new = Oi_new*Ri\n",
    "\n",
    "    Tij = origin_gravity(Oi_new,Dj,tij)\n",
    "    Ri = Oi/Tij.sum(axis=1) # switch summation dimension from dest_gravity\n",
    "    eps_vector = np.abs(Ri-1)\n",
    "    # Print every 50th iteration\n",
    "    if(i%50==0):\n",
    "        print(\"Iteration\", i)\n",
    "        print(\"Current max. epsilon\", max(eps_vector))\n",
    "    i+=1\n",
    "print(\"Final Tij\\n\", Tij)"
   ]
  },
  {
   "cell_type": "markdown",
   "id": "c107087a",
   "metadata": {},
   "source": [
    "## Comparing to Entropy Formulation\n",
    "We can also use an entropy formulation, which gives the same result as the gravity formulation."
   ]
  },
  {
   "cell_type": "code",
   "execution_count": 11,
   "id": "5f9d2e6f",
   "metadata": {},
   "outputs": [],
   "source": [
    "\"\"\"\n",
    "This function maintains the origin constrain\n",
    "It can be iteratively called to update the destination totals to match destination constraints - i.e., perform an entropy update.\n",
    "Inputs:\n",
    "Oi = known origin trip totals by zone\n",
    "Dj = known destination trip totals by zone\n",
    "tij = known travel time between origin zone i and destination zone j\n",
    "Returns:\n",
    "A 2D array of trip totals by i/j zone pair\n",
    "\"\"\"\n",
    "def dest_entropy(Oi,Dj,tij):\n",
    "    Bj = np.ones(Dj.shape[0])\n",
    "    Ai = 1/Bj\n",
    "    fij = 0.45*np.exp(-1*tij) # The impedance function is given by the inverse of the squared tij travel times\n",
    "    # Denominator of gravity expression = element-wise sum D_j x f_ij across columns\n",
    "    denom = (Dj*Bj*fij).sum(axis=1)\n",
    "    Tij = np.ones((Oi.shape[0],Dj.shape[0])) # Define an array with correct dimensions to update\n",
    "    # Trips are given by Oi x Dj_new x fij / denom\n",
    "    for i in range(Oi.shape[0]):\n",
    "            Tij[i,:] = Ai*Oi[i] * Dj * fij[i,:] / denom[i]\n",
    "    return(Tij)"
   ]
  },
  {
   "cell_type": "code",
   "execution_count": 12,
   "id": "7259c42c",
   "metadata": {},
   "outputs": [
    {
     "name": "stdout",
     "output_type": "stream",
     "text": [
      "Iteration 50\n",
      "Current max. epsilon 0.5727136928167897\n",
      "Iteration 100\n",
      "Current max. epsilon 0.37066072358579394\n",
      "Iteration 150\n",
      "Current max. epsilon 0.2503283571398671\n",
      "Iteration 200\n",
      "Current max. epsilon 0.1977117976510261\n",
      "Iteration 250\n",
      "Current max. epsilon 0.15524422919982483\n",
      "Iteration 300\n",
      "Current max. epsilon 0.09600127982311912\n",
      "Iteration 350\n",
      "Current max. epsilon 0.09599433833715776\n",
      "Iteration 400\n",
      "Current max. epsilon 0.09547568769992432\n",
      "Iteration 450\n",
      "Current max. epsilon 0.07172629381496565\n",
      "Iteration 500\n",
      "Current max. epsilon 0.06372891659143942\n",
      "Iteration 550\n",
      "Current max. epsilon 0.03372903952656614\n",
      "Iteration 600\n",
      "Current max. epsilon 0.03196971486460076\n",
      "Iteration 650\n",
      "Current max. epsilon 0.031963939502648975\n",
      "Iteration 700\n",
      "Current max. epsilon 0.03195585735552631\n",
      "Iteration 750\n",
      "Current max. epsilon 0.0319211022597099\n",
      "Iteration 800\n",
      "Current max. epsilon 0.0317841244600372\n",
      "Iteration 850\n",
      "Current max. epsilon 0.031247635427795073\n",
      "Iteration 900\n",
      "Current max. epsilon 0.029340850269442553\n",
      "Iteration 950\n",
      "Current max. epsilon 0.0244967039950168\n",
      "Final Tij\n",
      " [[5.00000000e+00 1.14399657e-38 4.41360950e-19 ... 8.86888526e-19\n",
      "  1.13714916e-38 1.15088526e-38]\n",
      " [1.65285031e-36 4.00000000e+00 5.10143896e-17 ... 1.02510376e-16\n",
      "  1.31436572e-36 1.33024249e-36]\n",
      " [1.75832091e-57 1.40665673e-57 2.00000000e+00 ... 1.09051700e-37\n",
      "  1.39823716e-57 1.41512705e-57]\n",
      " ...\n",
      " [2.88651637e-22 2.30921310e-22 8.90908691e-03 ... 1.79022792e-02\n",
      "  2.29539127e-22 2.32311825e-22]\n",
      " [4.51996731e-36 3.61597385e-36 1.39506507e-16 ... 2.80330012e-16\n",
      "  4.00000000e+00 3.10959566e-14]\n",
      " [6.04406467e-37 4.83525173e-37 1.86547001e-17 ... 3.74855082e-17\n",
      "  2.42833713e-05 3.99997572e+00]]\n"
     ]
    }
   ],
   "source": [
    "eps = 0.02 # Check against a 2% difference\n",
    "\n",
    "eps_vector = np.ones(Oi.shape[0]) # Epsilon vector to be updated as we run the gravity model\n",
    "Tij = np.ones(tij.shape) # Define a container to store OD trip data that has the correct dimensions\n",
    "\n",
    "i = 1 # define an iteration counter\n",
    "\n",
    "while (max(eps_vector)>eps):\n",
    "    if i==1:\n",
    "        Dj_new = Dj\n",
    "    else:\n",
    "        Dj_new = Dj_new*Rj\n",
    "        \n",
    "    Tij = dest_entropy(Oi,Dj_new,tij)\n",
    "    Rj = Dj/Tij.sum(axis=0)\n",
    "    eps_vector = np.abs(Rj-1)\n",
    "    # Print every 50th iteration\n",
    "    if(i%50==0):\n",
    "        print(\"Iteration\", i)\n",
    "        print(\"Current max. epsilon\", max(eps_vector))\n",
    "    i+=1\n",
    "print(\"Final Tij\\n\", Tij)"
   ]
  },
  {
   "cell_type": "markdown",
   "id": "09015e67",
   "metadata": {},
   "source": [
    "# Biproportional Updating\n",
    "Another common task that can benefit from a \"gravity style\" approach is biproportional updating to match future O-D trip matrices. Let's define a base year table that we will then update using this approach."
   ]
  },
  {
   "cell_type": "markdown",
   "id": "d75626e8",
   "metadata": {},
   "source": [
    "## Gravity-Style Update"
   ]
  },
  {
   "cell_type": "code",
   "execution_count": 13,
   "id": "11fde660",
   "metadata": {},
   "outputs": [],
   "source": [
    "# Create a table with dimensions based on origin/destination totals data and random values in [50,150]\n",
    "Tij_base = np.random.randint(50,150,size=(Oi.shape[0],Dj.shape[0]))"
   ]
  },
  {
   "cell_type": "code",
   "execution_count": 14,
   "id": "7ae082a8",
   "metadata": {},
   "outputs": [],
   "source": [
    "def biprop_gravity(Oi, Dj, Tij_base):\n",
    "    Dj_new = Dj\n",
    "    \n",
    "    # Denominator of gravity expression = element-wise sum D_j x f_ij across columns\n",
    "    denom = (Dj_new*Tij_base).sum(axis=1)\n",
    "    Tij = np.ones((Oi.shape[0],Dj.shape[0])) # Define an array with correct dimensions to update\n",
    "    # Trips are given by Oi x Dj_new x fij / denom\n",
    "    for i in range(Oi.shape[0]):\n",
    "            Tij[i,:] = Oi[i] * Dj_new * Tij_base[i,:] / denom[i]\n",
    "    return(Tij)"
   ]
  },
  {
   "cell_type": "code",
   "execution_count": 15,
   "id": "f9dec545",
   "metadata": {
    "scrolled": true
   },
   "outputs": [
    {
     "name": "stdout",
     "output_type": "stream",
     "text": [
      "Iteration 1\n",
      "Current max. Rj 1.1322701906019075\n",
      "Iteration 2\n",
      "Current max. Rj 1.0002934277191997\n",
      "Final Tij\n",
      " [[0.00135347 0.00044981 0.00043295 ... 0.00035263 0.00069361 0.00057088]\n",
      " [0.00106212 0.00068481 0.00052189 ... 0.00016732 0.00061427 0.00080653]\n",
      " [0.00026136 0.0001693  0.00015688 ... 0.00017023 0.00025851 0.00022487]\n",
      " ...\n",
      " [0.00035905 0.00038303 0.00023779 ... 0.00013286 0.00016327 0.00026571]\n",
      " [0.00093586 0.00084663 0.00023286 ... 0.00026485 0.00045143 0.00041805]\n",
      " [0.00092012 0.00085829 0.00023094 ... 0.00020637 0.00065289 0.00039188]]\n"
     ]
    }
   ],
   "source": [
    "eps = 1.001 # Check against a 0.1% difference\n",
    "\n",
    "Rj = 10*np.ones(Oi.shape[0]) # Rj vector to be updated as we run the gravity model\n",
    "Tij = Tij_base # Define a container to store OD trip data that has the correct dimensions\n",
    "\n",
    "\n",
    "i = 1 # define an iteration counter\n",
    "\n",
    "while (max(Rj)>eps):\n",
    "    if i==1:\n",
    "        Dj_new = Dj\n",
    "    else:\n",
    "        Dj_new = Dj_new*Rj\n",
    "        \n",
    "    Tij = biprop_gravity(Oi,Dj_new,Tij_base)\n",
    "    Rj = Dj/Tij.sum(axis=0)\n",
    "    print(\"Iteration\", i)\n",
    "    print(\"Current max. Rj\", max(Rj))\n",
    "    i+=1\n",
    "print(\"Final Tij\\n\", Tij)"
   ]
  },
  {
   "cell_type": "markdown",
   "id": "59cef9a4",
   "metadata": {},
   "source": [
    "## Row/Column (Iterative Proportional Updating)\n",
    "A common and very useful technique for updating a trip matrix is called *iterative proportional updating*, or IPF. In this approach, we iterate between adjusting cell totals to match row totals, then column totals, etc."
   ]
  },
  {
   "cell_type": "code",
   "execution_count": 16,
   "id": "f952d0a3",
   "metadata": {},
   "outputs": [],
   "source": [
    "def ipf(Tij,Oi,Dj,i):\n",
    "    if i%2==1: # If it's an add iteration then balance row totals\n",
    "        R = Oi/Tij.sum(axis=1)\n",
    "        Tij =  Tij*R[:,np.newaxis] # Need to add dimension so the multiplication occurs across rows not columns\n",
    "    else: # If it's an odd even iteration then balance column totals\n",
    "        R = Dj/Tij.sum(axis=0)\n",
    "        Tij =  Tij*R # Do not add dimension so the multiplication occurs across columns not rows\n",
    "    \n",
    "    return (Tij, R)\n",
    "    "
   ]
  },
  {
   "cell_type": "code",
   "execution_count": 17,
   "id": "00b8b09b",
   "metadata": {},
   "outputs": [
    {
     "name": "stdout",
     "output_type": "stream",
     "text": [
      "Iteration 1\n",
      "Current max. Ri 0.030308583995784746\n",
      "Current max. Rj 10.0\n",
      "Iteration 2\n",
      "Current max. Ri 0.030308583995784746\n",
      "Current max. Rj 21.38779540402033\n",
      "Iteration 3\n",
      "Current max. Ri 1.133687510092452\n",
      "Current max. Rj 21.38779540402033\n",
      "Iteration 4\n",
      "Current max. Ri 1.133687510092452\n",
      "Current max. Rj 1.0034865305703693\n",
      "Iteration 5\n",
      "Current max. Ri 1.000194171662193\n",
      "Current max. Rj 1.0034865305703693\n",
      "Iteration 6\n",
      "Current max. Ri 1.000194171662193\n",
      "Current max. Rj 1.0000123700727663\n",
      "Final Tij\n",
      " [[0.001353549332232448 0.00044978960660723013 0.0004328685964759496 ...\n",
      "  0.00035260470644142875 0.0006935365484434364 0.0005708781372591112]\n",
      " [0.0010621797354583233 0.0006847853815278821 0.0005217864521198395 ...\n",
      "  0.0001673080817304243 0.0006142037903371293 0.0008065326330698908]\n",
      " [0.00026137238415238986 0.00016929372268605176 0.0001568484670874719 ...\n",
      "  0.0001702212298275559 0.0002584806325331632 0.00022487454995146522]\n",
      " ...\n",
      " [0.00035907760217792977 0.0003830121710206479 0.00023774950573305013 ...\n",
      "  0.00013284822140993978 0.00016325109771940475 0.00026571807337965784]\n",
      " [0.00093591389122001 0.0008465918324259302 0.0002328169282548427 ...\n",
      "  0.00026482712455473017 0.00045138108735063475 0.00041805682754469427]\n",
      " [0.0009201829820091441 0.0008582579695168933 0.00023089419144560773 ...\n",
      "  0.0002063600228140184 0.0006528277602887979 0.00039188623020965666]]\n"
     ]
    }
   ],
   "source": [
    "eps = 1.001 # Check against a 0.1% difference\n",
    "\n",
    "Ri = 10*np.ones(Oi.shape[0]) # Ri vector to be updated as we run the gravity model\n",
    "Rj = 10*np.ones(Dj.shape[0]) # Rj vector to be updated as we run the gravity model\n",
    "\n",
    "Tij = Tij_base # Define a container to store OD trip data that has the correct dimensions\n",
    "\n",
    "i = 1 # define an iteration counter\n",
    "\n",
    "while ((max(Ri)>eps) or (max(Rj)>eps)):\n",
    "    if i%2==1: # If it's an odd iteration then balance row totals\n",
    "        Tij, Ri = ipf(Tij,Oi,Dj,i) \n",
    "    else: # If it's an even iteration then balance column totals\n",
    "        Tij, Rj = ipf(Tij,Oi,Dj,i)\n",
    "\n",
    "    print(\"Iteration\", i)\n",
    "    print(\"Current max. Ri\", max(Ri))\n",
    "    print(\"Current max. Rj\", max(Rj))\n",
    "    i+=1\n",
    "print(\"Final Tij\\n\", Tij)"
   ]
  },
  {
   "cell_type": "markdown",
   "id": "b2117ea3",
   "metadata": {},
   "source": [
    "# Goodness of Fit (GoF) Analysis"
   ]
  },
  {
   "cell_type": "code",
   "execution_count": 1,
   "id": "8c8b1c49",
   "metadata": {
    "scrolled": true
   },
   "outputs": [
    {
     "ename": "NameError",
     "evalue": "name 'my_trips' is not defined",
     "output_type": "error",
     "traceback": [
      "\u001b[1;31m---------------------------------------------------------------------------\u001b[0m",
      "\u001b[1;31mNameError\u001b[0m                                 Traceback (most recent call last)",
      "Input \u001b[1;32mIn [1]\u001b[0m, in \u001b[0;36m<cell line: 2>\u001b[1;34m()\u001b[0m\n\u001b[0;32m      1\u001b[0m \u001b[38;5;66;03m# Load the observed data\u001b[39;00m\n\u001b[1;32m----> 2\u001b[0m my_obs_trips \u001b[38;5;241m=\u001b[39m \u001b[43mmy_trips\u001b[49m\u001b[38;5;241m.\u001b[39mloc[(my_trips\u001b[38;5;241m.\u001b[39mo_zip\u001b[38;5;241m.\u001b[39misin(filt_o_trips\u001b[38;5;241m.\u001b[39mindex)) \u001b[38;5;241m&\u001b[39m (my_trips\u001b[38;5;241m.\u001b[39md_zip\u001b[38;5;241m.\u001b[39misin(filt_d_trips\u001b[38;5;241m.\u001b[39mindex)),[\u001b[38;5;124m\"\u001b[39m\u001b[38;5;124mo_zip\u001b[39m\u001b[38;5;124m\"\u001b[39m,\u001b[38;5;124m\"\u001b[39m\u001b[38;5;124md_zip\u001b[39m\u001b[38;5;124m\"\u001b[39m,\u001b[38;5;124m\"\u001b[39m\u001b[38;5;124msampno\u001b[39m\u001b[38;5;124m\"\u001b[39m]]\n\u001b[0;32m      3\u001b[0m my_obs_trips \u001b[38;5;241m=\u001b[39m my_obs_trips\u001b[38;5;241m.\u001b[39mgroupby([\u001b[38;5;124m\"\u001b[39m\u001b[38;5;124mo_zip\u001b[39m\u001b[38;5;124m\"\u001b[39m,\u001b[38;5;124m\"\u001b[39m\u001b[38;5;124md_zip\u001b[39m\u001b[38;5;124m\"\u001b[39m])\u001b[38;5;241m.\u001b[39mcount()[\u001b[38;5;124m\"\u001b[39m\u001b[38;5;124msampno\u001b[39m\u001b[38;5;124m\"\u001b[39m]\n\u001b[0;32m      4\u001b[0m tot_obs_trips \u001b[38;5;241m=\u001b[39m pd\u001b[38;5;241m.\u001b[39mDataFrame(index\u001b[38;5;241m=\u001b[39mindex,columns\u001b[38;5;241m=\u001b[39m[\u001b[38;5;124m\"\u001b[39m\u001b[38;5;124msampno\u001b[39m\u001b[38;5;124m\"\u001b[39m])\n",
      "\u001b[1;31mNameError\u001b[0m: name 'my_trips' is not defined"
     ]
    }
   ],
   "source": [
    "# Load the observed data\n",
    "my_obs_trips = my_trips.loc[(my_trips.o_zip.isin(filt_o_trips.index)) & (my_trips.d_zip.isin(filt_d_trips.index)),[\"o_zip\",\"d_zip\",\"sampno\"]]\n",
    "my_obs_trips = my_obs_trips.groupby([\"o_zip\",\"d_zip\"]).count()[\"sampno\"]\n",
    "tot_obs_trips = pd.DataFrame(index=index,columns=[\"sampno\"])\n",
    "tot_obs_trips.update(my_obs_trips)\n",
    "tot_obs_trips.reset_index(inplace=True)\n",
    "Tij_obs = tot_obs_trips.pivot(index=\"o_zip\",columns=\"d_zip\",values=\"sampno\").fillna(0).values\n",
    "# Load the predicted data as the result from the last process above - i.e., row/column IPF\n",
    "Tij_pred = eTij * (Tij_obs.sum()/Tij.sum())"
   ]
  },
  {
   "cell_type": "code",
   "execution_count": 24,
   "id": "25ad17dd-744a-463b-a118-3c746570b137",
   "metadata": {},
   "outputs": [
    {
     "name": "stdout",
     "output_type": "stream",
     "text": [
      "Tij_obs 27106.0\n",
      "Tij_pred 27105.999999999778\n"
     ]
    }
   ],
   "source": [
    "# Check that observed and predicted trip totals are equal before performing GoF analysis\n",
    "print(\"Tij_obs\",Tij_obs.sum())\n",
    "print(\"Tij_pred\",Tij_pred.sum())"
   ]
  },
  {
   "cell_type": "markdown",
   "id": "7687524a",
   "metadata": {},
   "source": [
    "## $R^2$ Determination\n",
    "$R^2 = 1 - \\sum_i\\sum_j(T_{ij}obs-T_{ij}pred)^2/\\sum_i\\sum_j (T_{ij}obs-T_{0})^2$"
   ]
  },
  {
   "cell_type": "code",
   "execution_count": 20,
   "id": "36f83228",
   "metadata": {},
   "outputs": [
    {
     "name": "stdout",
     "output_type": "stream",
     "text": [
      "R2 0.0869415409714529\n"
     ]
    }
   ],
   "source": [
    "To = Tij_obs.sum()/Tij_obs.size\n",
    "R2 = 1 - ((Tij_obs - Tij_pred)**2).sum() / ((Tij_obs - To)**2).sum()\n",
    "print(\"R2\",R2)"
   ]
  },
  {
   "cell_type": "markdown",
   "id": "5b589753",
   "metadata": {},
   "source": [
    "## $\\chi^2$ Determination\n",
    "$\\chi^2 = \\sum_i\\sum_j((T_{ij}obs-T_{ij}pred)^2/T_{ij}pred)$"
   ]
  },
  {
   "cell_type": "code",
   "execution_count": 21,
   "id": "a341019d",
   "metadata": {},
   "outputs": [
    {
     "name": "stdout",
     "output_type": "stream",
     "text": [
      "chi2 4203144.717088172 chi2 test statistic 192862.9974524138\n"
     ]
    }
   ],
   "source": [
    "from scipy.stats import chi2\n",
    "\n",
    "chi_2 = ((Tij_obs - Tij_pred)**2 / Tij_pred).sum()\n",
    "df = Tij_obs.size - 1 # We have no. of observations minus one (because chi2 is a variance measure and takes up on df with differencing) degrees of freedom\n",
    "chi_2_test = chi2.ppf(0.95, df)\n",
    "print(\"chi2\",chi_2, \"chi2 test statistic\", chi_2_test)"
   ]
  },
  {
   "cell_type": "markdown",
   "id": "055389bd",
   "metadata": {},
   "source": [
    "### Mean Absolute Error Determination\n",
    "$MAE = \\sum_i\\sum_j |T_{ij}obs-T_{ij}pred|/n^2$"
   ]
  },
  {
   "cell_type": "code",
   "execution_count": 22,
   "id": "ecdf8fd9",
   "metadata": {},
   "outputs": [
    {
     "name": "stdout",
     "output_type": "stream",
     "text": [
      "MAE 0.20364964123264107\n"
     ]
    }
   ],
   "source": [
    "MAE = np.abs(Tij_obs - Tij_pred).sum() / Tij_obs.size\n",
    "print(\"MAE\",MAE)"
   ]
  },
  {
   "cell_type": "markdown",
   "id": "ae71f648",
   "metadata": {},
   "source": [
    "## Trip Length Distribution\n",
    "We can start by \"stacking\" the tables from matrices into vectors"
   ]
  },
  {
   "cell_type": "code",
   "execution_count": 25,
   "id": "87f6eda9",
   "metadata": {},
   "outputs": [],
   "source": [
    "Tij_obs_vect = np.reshape(Tij_obs,-1)\n",
    "Tij_pred_vect = np.reshape(Tij_pred,-1)\n",
    "Tij_TT_vect = np.reshape(tij,-1)"
   ]
  },
  {
   "cell_type": "markdown",
   "id": "13554556",
   "metadata": {},
   "source": [
    "We can then take the result, combine it into a 2D array (i.e., matrix), and sort the values by travel times (assume travel time is the first column)."
   ]
  },
  {
   "cell_type": "code",
   "execution_count": 26,
   "id": "4204ed8c",
   "metadata": {},
   "outputs": [
    {
     "name": "stdout",
     "output_type": "stream",
     "text": [
      "[[5.0 0.0013928499451729974 2.0]\n",
      " [5.0 0.00037726961170363177 1.0]\n",
      " [5.0 0.0013812939746083728 1.0]\n",
      " ...\n",
      " [495.0 0.21045442010146687 3.0]\n",
      " [510.0 0.11894239462373371 1.0]\n",
      " [510.0 0.06676259483192375 0.0]]\n"
     ]
    }
   ],
   "source": [
    "comb_matrix = np.vstack((Tij_TT_vect,Tij_pred_vect,Tij_obs_vect)).T # np.hstack() won't work with C-style vectors because row major, so use np.vstack() and transpose\n",
    "comb_matrix = comb_matrix[comb_matrix[:, 0].argsort()] # Sort by the 0th column values\n",
    "print(comb_matrix)"
   ]
  },
  {
   "cell_type": "markdown",
   "id": "2b5b5b20",
   "metadata": {},
   "source": [
    "We want to calculate the cumulative frequency for both observed and predicted values. It would also be nice to have everything in a Pandas ```Dataframe``` with column names."
   ]
  },
  {
   "cell_type": "code",
   "execution_count": 27,
   "id": "7311d91b",
   "metadata": {},
   "outputs": [],
   "source": [
    "df = pd.DataFrame(data=comb_matrix,columns=[\"travel_time\",\"pred_freq\",\"obs_freq\"])\n",
    "df['cum_obs'] = (df[\"obs_freq\"].cumsum()/df[\"obs_freq\"].sum())*100\n",
    "df['cum_pred'] = (df[\"pred_freq\"].cumsum()/df[\"pred_freq\"].sum())*100"
   ]
  },
  {
   "cell_type": "markdown",
   "id": "e80ea026",
   "metadata": {},
   "source": [
    "We can now plot these values using Matplotlib"
   ]
  },
  {
   "cell_type": "code",
   "execution_count": 28,
   "id": "250de003",
   "metadata": {},
   "outputs": [
    {
     "data": {
      "image/png": "[encoded data removed]",
      "text/plain": [
       "<Figure size 1080x720 with 1 Axes>"
      ]
     },
     "metadata": {},
     "output_type": "display_data"
    }
   ],
   "source": [
    "from matplotlib import pyplot as plt\n",
    "plt.style.use('seaborn-whitegrid')\n",
    "\n",
    "fig, ax = plt.subplots(figsize=(15,10))\n",
    "ax.plot(df['travel_time'], df['cum_obs'], '-b', label='Observed')\n",
    "ax.plot(df['travel_time'], df['cum_pred'], '-g', label='Predicted')\n",
    "ax.legend(loc='upper left', frameon=True);\n",
    "\n",
    "plt.xlabel('Trip Length (in minutes) for Auto Travel')\n",
    "plt.ylabel('Cumulative % Frequency')\n",
    "plt.title('Cumulative Trip Length Distribution');"
   ]
  },
  {
   "cell_type": "code",
   "execution_count": null,
   "id": "7dde9bef",
   "metadata": {},
   "outputs": [],
   "source": []
  }
 ],
 "metadata": {
  "kernelspec": {
   "display_name": "Python 3 (ipykernel)",
   "language": "python",
   "name": "python3"
  },
  "language_info": {
   "codemirror_mode": {
    "name": "ipython",
    "version": 3
   },
   "file_extension": ".py",
   "mimetype": "text/x-python",
   "name": "python",
   "nbconvert_exporter": "python",
   "pygments_lexer": "ipython3",
   "version": "3.9.12"
  }
 },
 "nbformat": 4,
 "nbformat_minor": 5
}
