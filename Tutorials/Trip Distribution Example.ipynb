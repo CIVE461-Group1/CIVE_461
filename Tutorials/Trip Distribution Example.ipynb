{
 "cells": [
  {
   "cell_type": "markdown",
   "id": "e6ef0c9e",
   "metadata": {},
   "source": [
    "We'll first define the inputs to the model. These will be read into the notebook from csv files."
   ]
  },
  {
   "cell_type": "code",
   "execution_count": 2,
   "id": "3fce189f",
   "metadata": {},
   "outputs": [],
   "source": [
    "import numpy as np\n",
    "\n",
    "# Load the origin totals\n",
    "Oi = np.loadtxt(\"origin_vect.csv\", delimiter=\",\")\n",
    "# Load the destination totals\n",
    "Dj = np.loadtxt(\"dest_vect.csv\", delimiter=\",\")\n",
    "# Load the travel time data\n",
    "tij = np.loadtxt(\"time_matrix.csv\", delimiter=\",\")"
   ]
  },
  {
   "cell_type": "markdown",
   "id": "e80606df",
   "metadata": {},
   "source": [
    "# Basic Gravity Model\n",
    "We will define a function to handle the iterations. The impedance function is given by $f_{ij}=1/t_{ij}^2$."
   ]
  },
  {
   "cell_type": "markdown",
   "id": "517869b7",
   "metadata": {},
   "source": [
    "## Destination-based Gravity Model"
   ]
  },
  {
   "cell_type": "code",
   "execution_count": 72,
   "id": "84a0393f",
   "metadata": {},
   "outputs": [],
   "source": [
    "\"\"\"\n",
    "This function maintains the origin constrain\n",
    "It can be iteratively called to update the destination totals to match destination constraints - i.e., perform a gravity update.\n",
    "Inputs:\n",
    "Oi = known origin trip totals by zone\n",
    "Dj = known destination trip totals by zone\n",
    "tij = known travel time between origin zone i and destination zone j\n",
    "Returns:\n",
    "A 2D array of trip totals by i/j zone pair\n",
    "\"\"\"\n",
    "def dest_gravity(Oi,Dj,tij):\n",
    "    Dj_new = Dj\n",
    "    fij = tij**-2 # The impedance function is given by the inverse of the squared tij travel times\n",
    "    # Denominator of gravity expression = element-wise sum D_j x f_ij across columns\n",
    "    denom = (Dj_new*fij).sum(axis=1)\n",
    "    Tij = np.ones((Oi.shape[0],Dj.shape[0])) # Define an array with correct dimensions to update\n",
    "    # Trips are given by Oi x Dj_new x fij / denom\n",
    "    for i in range(Oi.shape[0]):\n",
    "            Tij[i,:] = Oi[i] * Dj_new * fij[i,:] / denom[i]\n",
    "    return(Tij)"
   ]
  },
  {
   "cell_type": "markdown",
   "id": "a6fe1cb6",
   "metadata": {},
   "source": [
    "We will define a loop at continues until all $R_i$ factors are below an $\\epsilon$ difference from 1.0 as user-defined (we're use 2%). Let's first setup a check to make sure the basic structure works (not necessary for analysis)."
   ]
  },
  {
   "cell_type": "code",
   "execution_count": 73,
   "id": "f5ba7718",
   "metadata": {},
   "outputs": [
    {
     "name": "stdout",
     "output_type": "stream",
     "text": [
      "check 1\n",
      "check 2\n",
      "check 3\n",
      "check 4\n"
     ]
    }
   ],
   "source": [
    "eps = 0.02 # Check against a 2% difference\n",
    "\n",
    "eps_vector = np.ones(Oi.shape[0]) # Epsilon vector to be updated as we run the gravity model\n",
    "\n",
    "i = 1 # define an iteration counter\n",
    "\n",
    "while (max(eps_vector)):\n",
    "    print(\"check\", i)\n",
    "    eps_vector=np.abs(eps_vector-0.25)\n",
    "    i+=1"
   ]
  },
  {
   "cell_type": "markdown",
   "id": "ada6a823",
   "metadata": {},
   "source": [
    "Looks good. Now let's define the full gravity model with an iterative call to dest_gravity()."
   ]
  },
  {
   "cell_type": "code",
   "execution_count": 74,
   "id": "2516e36b",
   "metadata": {
    "scrolled": true
   },
   "outputs": [
    {
     "name": "stdout",
     "output_type": "stream",
     "text": [
      "Iteration 1\n",
      "Current max. epsilon 0.5670812008228296\n",
      "Iteration 2\n",
      "Current max. epsilon 0.08755799371670792\n",
      "Iteration 3\n",
      "Current max. epsilon 0.032265328217909284\n",
      "Iteration 4\n",
      "Current max. epsilon 0.011318911750225258\n",
      "Final Tij\n",
      " [[111.70393815  28.80253239  40.83880459 218.65472487]\n",
      " [ 27.30788732 253.48530766 102.23335081  76.97345421]\n",
      " [ 13.12639073  51.47978576 291.9705646   43.42325891]\n",
      " [108.22482071 128.1372804   89.0253992  376.61249969]]\n"
     ]
    }
   ],
   "source": [
    "eps = 0.02 # Check against a 2% difference\n",
    "\n",
    "eps_vector = np.ones(Oi.shape[0]) # Epsilon vector to be updated as we run the gravity model\n",
    "Tij = np.ones(tij.shape) # Define a container to store OD trip data that has the correct dimensions\n",
    "\n",
    "\n",
    "i = 1 # define an iteration counter\n",
    "\n",
    "while (max(eps_vector)>eps):\n",
    "    if i==1:\n",
    "        Dj_new = Dj\n",
    "    else:\n",
    "        Dj_new = Dj_new*Rj\n",
    "        \n",
    "    Tij = dest_gravity(Oi,Dj_new,tij)\n",
    "    Rj = Dj/Tij.sum(axis=0)\n",
    "    eps_vector = np.abs(Rj-1)\n",
    "    print(\"Iteration\", i)\n",
    "    print(\"Current max. epsilon\", max(eps_vector))\n",
    "    i+=1\n",
    "print(\"Final Tij\\n\", Tij)"
   ]
  },
  {
   "cell_type": "markdown",
   "id": "2167f2f6",
   "metadata": {},
   "source": [
    "## Origin-based Gravity Model\n",
    "The same procedure can be used based on adjusting the origin totals and fixing the destination totals."
   ]
  },
  {
   "cell_type": "code",
   "execution_count": 79,
   "id": "c3be9a5b",
   "metadata": {},
   "outputs": [],
   "source": [
    "\"\"\"\n",
    "This function maintains the origin constraint\n",
    "It can be iteratively called to update the origin totals to match origin constraints - i.e., perform a gravity update.\n",
    "Inputs:\n",
    "Oi = known origin trip totals by zone\n",
    "Dj = known destination trip totals by zone\n",
    "tij = known travel time between origin zone i and destination zone j\n",
    "Returns:\n",
    "A 2D array of trip totals by i/j zone pair\n",
    "\"\"\"\n",
    "def origin_gravity(Oi,Dj,tij):\n",
    "    Oi_new = Oi\n",
    "    fij = tij**-2 # The impedance function is given by the inverse of the squared tij travel times\n",
    "    # Denominator of gravity expression = element-wise sum D_j x f_ij across columns\n",
    "    denom = (Oi_new*fij.transpose()).sum(axis=1) # switch summation dimension from dest_gravity\n",
    "    # Trips are given by Oi x Dj_new x fij / denom\n",
    "    for j in range(Oi.shape[0]):\n",
    "            Tij[:,j] = Oi_new * Dj[j] * fij[:,j] / denom[j]\n",
    "    return(Tij)"
   ]
  },
  {
   "cell_type": "code",
   "execution_count": 80,
   "id": "15c39cc2",
   "metadata": {
    "scrolled": false
   },
   "outputs": [
    {
     "name": "stdout",
     "output_type": "stream",
     "text": [
      "Iteration 1\n",
      "Current max. epsilon 0.4911429260973377\n",
      "Iteration 2\n",
      "Current max. epsilon 0.043847589935050335\n",
      "Iteration 3\n",
      "Current max. epsilon 0.00933833244752813\n",
      "Final Tij\n",
      " [[111.80152159  29.76740576  42.7535289  219.44808732]\n",
      " [ 26.31120491 252.19502246 103.03029581  74.36820764]\n",
      " [ 12.54460336  50.80183754 291.8571873   41.61287524]\n",
      " [107.34267015 131.23573424  92.35898799 374.5708298 ]]\n"
     ]
    }
   ],
   "source": [
    "eps = 0.02 # Check against a 2% difference\n",
    "\n",
    "eps_vector = np.ones(Oi.shape[0]) # Epsilon vector to be updated as we run the gravity model\n",
    "Tij = np.ones(tij.shape) # Define a container to store OD trip data that has the correct dimensions\n",
    "\n",
    "i = 1 # define an iteration counter\n",
    "\n",
    "while (max(eps_vector)>eps):\n",
    "#while (i<3):\n",
    "    if i==1:\n",
    "        Oi_new = Oi\n",
    "    else:\n",
    "        Oi_new = Oi_new*Ri\n",
    "\n",
    "    Tij = origin_gravity(Oi_new,Dj,tij)\n",
    "    Ri = Oi/Tij.sum(axis=1) # switch summation dimension from dest_gravity\n",
    "    eps_vector = np.abs(Ri-1)\n",
    "    print(\"Iteration\", i)\n",
    "    print(\"Current max. epsilon\", max(eps_vector))\n",
    "    i+=1\n",
    "print(\"Final Tij\\n\", Tij)"
   ]
  },
  {
   "cell_type": "markdown",
   "id": "c107087a",
   "metadata": {},
   "source": [
    "## Comparing to Entropy Formulation\n",
    "We can also use an entropy formulation, which gives the same result as the gravity formulation."
   ]
  },
  {
   "cell_type": "code",
   "execution_count": 81,
   "id": "5f9d2e6f",
   "metadata": {},
   "outputs": [],
   "source": [
    "\"\"\"\n",
    "This function maintains the origin constrain\n",
    "It can be iteratively called to update the destination totals to match destination constraints - i.e., perform an entropy update.\n",
    "Inputs:\n",
    "Oi = known origin trip totals by zone\n",
    "Dj = known destination trip totals by zone\n",
    "tij = known travel time between origin zone i and destination zone j\n",
    "Returns:\n",
    "A 2D array of trip totals by i/j zone pair\n",
    "\"\"\"\n",
    "def dest_entropy(Oi,Dj,tij):\n",
    "    Bj = np.ones(Dj.shape[0])\n",
    "    Ai = 1/Bj\n",
    "    fij = tij**-2 # The impedance function is given by the inverse of the squared tij travel times\n",
    "    # Denominator of gravity expression = element-wise sum D_j x f_ij across columns\n",
    "    denom = (Dj*Bj*fij).sum(axis=1)\n",
    "    Tij = np.ones((Oi.shape[0],Dj.shape[0])) # Define an array with correct dimensions to update\n",
    "    # Trips are given by Oi x Dj_new x fij / denom\n",
    "    for i in range(Oi.shape[0]):\n",
    "            Tij[i,:] = Ai*Oi[i] * Dj * fij[i,:] / denom[i]\n",
    "    return(Tij)"
   ]
  },
  {
   "cell_type": "code",
   "execution_count": 82,
   "id": "7259c42c",
   "metadata": {},
   "outputs": [
    {
     "name": "stdout",
     "output_type": "stream",
     "text": [
      "Iteration 1\n",
      "Current max. epsilon 0.5670812008228296\n",
      "Iteration 2\n",
      "Current max. epsilon 0.08755799371670792\n",
      "Iteration 3\n",
      "Current max. epsilon 0.032265328217909284\n",
      "Iteration 4\n",
      "Current max. epsilon 0.011318911750225258\n",
      "Final Tij\n",
      " [[111.70393815  28.80253239  40.83880459 218.65472487]\n",
      " [ 27.30788732 253.48530766 102.23335081  76.97345421]\n",
      " [ 13.12639073  51.47978576 291.9705646   43.42325891]\n",
      " [108.22482071 128.1372804   89.0253992  376.61249969]]\n"
     ]
    }
   ],
   "source": [
    "eps = 0.02 # Check against a 2% difference\n",
    "\n",
    "eps_vector = np.ones(Oi.shape[0]) # Epsilon vector to be updated as we run the gravity model\n",
    "Tij = np.ones(tij.shape) # Define a container to store OD trip data that has the correct dimensions\n",
    "\n",
    "\n",
    "i = 1 # define an iteration counter\n",
    "\n",
    "while (max(eps_vector)>eps):\n",
    "    if i==1:\n",
    "        Dj_new = Dj\n",
    "    else:\n",
    "        Dj_new = Dj_new*Rj\n",
    "        \n",
    "    Tij = dest_entropy(Oi,Dj_new,tij)\n",
    "    Rj = Dj/Tij.sum(axis=0)\n",
    "    eps_vector = np.abs(Rj-1)\n",
    "    print(\"Iteration\", i)\n",
    "    print(\"Current max. epsilon\", max(eps_vector))\n",
    "    i+=1\n",
    "print(\"Final Tij\\n\", Tij)"
   ]
  },
  {
   "cell_type": "markdown",
   "id": "09015e67",
   "metadata": {},
   "source": [
    "# Biproportional Updating\n",
    "Another common task that can benefit from a \"gravity style\" approach is biproportional updating to match future O-D trip matrices. Let's define a base year table that we will then update using this approach."
   ]
  },
  {
   "cell_type": "markdown",
   "id": "d75626e8",
   "metadata": {},
   "source": [
    "## Gravity-Style Update"
   ]
  },
  {
   "cell_type": "code",
   "execution_count": 101,
   "id": "11fde660",
   "metadata": {},
   "outputs": [],
   "source": [
    "Tij_base = np.random.randint(50,150,size=(Oi.shape[0],Dj.shape[0]))"
   ]
  },
  {
   "cell_type": "code",
   "execution_count": 102,
   "id": "7ae082a8",
   "metadata": {},
   "outputs": [],
   "source": [
    "def biprop_gravity(Oi, Dj, Tij_base):\n",
    "    Dj_new = Dj\n",
    "    \n",
    "    # Denominator of gravity expression = element-wise sum D_j x f_ij across columns\n",
    "    denom = (Dj_new*Tij_base).sum(axis=1)\n",
    "    Tij = np.ones((Oi.shape[0],Dj.shape[0])) # Define an array with correct dimensions to update\n",
    "    # Trips are given by Oi x Dj_new x fij / denom\n",
    "    for i in range(Oi.shape[0]):\n",
    "            Tij[i,:] = Oi[i] * Dj_new * Tij_base[i,:] / denom[i]\n",
    "    return(Tij)"
   ]
  },
  {
   "cell_type": "code",
   "execution_count": 103,
   "id": "f9dec545",
   "metadata": {
    "scrolled": true
   },
   "outputs": [
    {
     "name": "stdout",
     "output_type": "stream",
     "text": [
      "Iteration 1\n",
      "Current max. Rj 1.2653690523126606\n",
      "Iteration 2\n",
      "Current max. Rj 1.0032909314572804\n",
      "Iteration 3\n",
      "Current max. Rj 1.000076864191593\n",
      "Final Tij\n",
      " [[ 69.34221172  90.89461968 103.39006797 136.37310063]\n",
      " [ 39.11986795 105.47006627 107.15458382 208.25548196]\n",
      " [ 45.76930662 100.00530948  90.14312984 164.08225406]\n",
      " [103.79032649 167.63014475 229.34493479 201.23459397]]\n"
     ]
    }
   ],
   "source": [
    "eps = 1.001 # Check against a 0.1% difference\n",
    "\n",
    "Rj = 10*np.ones(Oi.shape[0]) # Rj vector to be updated as we run the gravity model\n",
    "Tij = Tij_base # Define a container to store OD trip data that has the correct dimensions\n",
    "\n",
    "\n",
    "i = 1 # define an iteration counter\n",
    "\n",
    "while (max(Rj)>eps):\n",
    "    if i==1:\n",
    "        Dj_new = Dj\n",
    "    else:\n",
    "        Dj_new = Dj_new*Rj\n",
    "        \n",
    "    Tij = biprop_gravity(Oi,Dj_new,Tij_base)\n",
    "    Rj = Dj/Tij.sum(axis=0)\n",
    "    print(\"Iteration\", i)\n",
    "    print(\"Current max. Rj\", max(Rj))\n",
    "    i+=1\n",
    "print(\"Final Tij\\n\", Tij)"
   ]
  },
  {
   "cell_type": "markdown",
   "id": "59cef9a4",
   "metadata": {},
   "source": [
    "## Row/Column (Iterative Proportional Updating)\n",
    "A common and very useful technique for updating a trip matrix is called *iterative proportional updating*, or IPF. In this approach, we iterate between adjusting cell totals to match row totals, then column totals, etc."
   ]
  },
  {
   "cell_type": "code",
   "execution_count": 104,
   "id": "f952d0a3",
   "metadata": {},
   "outputs": [],
   "source": [
    "def ipf(Tij,Oi,Di,i):\n",
    "    if i%2==1: # If it's an add iteration then balance row totals\n",
    "        R = Oi/Tij.sum(axis=1)\n",
    "        Tij =  Tij*R[:,np.newaxis] # Need to add dimension so the multiplication occurs across rows not columns\n",
    "    else: # If it's an odd even iteration then balance column totals\n",
    "        R = Dj/Tij.sum(axis=0)\n",
    "        Tij =  Tij*R # Do not add dimension so the multiplication occurs across columns not rows\n",
    "    print(Tij,R)\n",
    "    \n",
    "    return (Tij, R)\n",
    "    "
   ]
  },
  {
   "cell_type": "code",
   "execution_count": 105,
   "id": "00b8b09b",
   "metadata": {},
   "outputs": [
    {
     "name": "stdout",
     "output_type": "stream",
     "text": [
      "[[112.45283019 110.18867925 106.41509434  70.94339623]\n",
      " [ 71.19047619 143.47619048 123.76190476 121.57142857]\n",
      " [ 79.47019868 129.8013245   99.33774834  91.39072848]\n",
      " [165.89048991 200.28242075 232.65129683 103.17579251]] [0.75471698 1.0952381  1.32450331 2.02305476]\n",
      "Iteration 1\n",
      "Current max. Ri 2.0230547550432276\n",
      "Current max. Rj 10.0\n",
      "[[ 67.62834502  87.58487105 100.32623026 130.12719902]\n",
      " [ 42.81345412 114.04387209 116.68049003 222.9911496 ]\n",
      " [ 47.79282128 103.17423121  93.65383619 167.6325091 ]\n",
      " [ 99.76537958 159.19702564 219.33944352 189.24914228]] [0.601393   0.7948627  0.94278195 1.83423977]\n",
      "Iteration 2\n",
      "Current max. Ri 2.0230547550432276\n",
      "Current max. Rj 1.8342397734663856\n",
      "[[ 70.1417619   90.839975   104.05486859 134.96339452]\n",
      " [ 39.66372609 105.65381835 108.09646386 206.5859917 ]\n",
      " [ 46.3722764  100.10758603  90.87016548 162.64997208]\n",
      " [104.91377798 167.41239771 230.65846868 199.01535563]] [1.03716514 0.92643135 0.97027702 1.05160506]\n",
      "Iteration 3\n",
      "Current max. Ri 1.0516050600523887\n",
      "Current max. Rj 1.8342397734663856\n",
      "[[ 69.31122473  90.83727786 103.33736284 136.26565003]\n",
      " [ 39.19407438 105.65068137 107.35108947 208.57933033]\n",
      " [ 45.82318984 100.10461372  90.24357427 164.2193741 ]\n",
      " [103.67151105 167.40742705 229.06797341 200.93564554]] [0.98815916 0.99997031 0.99310454 1.00964895]\n",
      "Iteration 4\n",
      "Current max. Ri 1.0516050600523887\n",
      "Current max. Rj 1.0096489534962623\n",
      "[[ 69.35430842  90.89374208 103.40159709 136.35035242]\n",
      " [ 39.12813704 105.47294214 107.1704896  208.22843122]\n",
      " [ 45.77846978 100.00691898  90.15550318 164.05910806]\n",
      " [103.80717652 167.62649792 229.36773382 201.19859174]] [1.0006216  0.99831767 0.99902407 1.00130861]\n",
      "Iteration 5\n",
      "Current max. Ri 1.0013086090181293\n",
      "Current max. Rj 1.0096489534962623\n",
      "[[ 69.33600915  90.89372227 103.38300303 136.38176182]\n",
      " [ 39.11781301 105.47291915 107.15121781 208.27639832]\n",
      " [ 45.76639104 100.00689719  90.13929109 164.0969004 ]\n",
      " [103.7797868  167.62646139 229.32648807 201.24493946]] [0.99973615 0.99999978 0.99982018 1.00023036]\n",
      "Iteration 6\n",
      "Current max. Ri 1.0013086090181293\n",
      "Current max. Rj 1.0002303580673573\n",
      "Final Tij\n",
      " [[ 69.33600915  90.89372227 103.38300303 136.38176182]\n",
      " [ 39.11781301 105.47291915 107.15121781 208.27639832]\n",
      " [ 45.76639104 100.00689719  90.13929109 164.0969004 ]\n",
      " [103.7797868  167.62646139 229.32648807 201.24493946]]\n"
     ]
    }
   ],
   "source": [
    "eps = 1.001 # Check against a 0.1% difference\n",
    "\n",
    "Ri = 10*np.ones(Oi.shape[0]) # Ri vector to be updated as we run the gravity model\n",
    "Rj = 10*np.ones(Dj.shape[0]) # Rj vector to be updated as we run the gravity model\n",
    "\n",
    "Tij = Tij_base # Define a container to store OD trip data that has the correct dimensions\n",
    "\n",
    "i = 1 # define an iteration counter\n",
    "\n",
    "while ((max(Ri)>eps) and (max(Rj)>eps)):\n",
    "    if i%2==1: # If it's an odd iteration then balance row totals\n",
    "        Tij, Ri = ipf(Tij,Oi,Dj,i) \n",
    "    else: # If it's an even iteration then balance column totals\n",
    "        Tij, Rj = ipf(Tij,Oi,Dj,i)\n",
    "\n",
    "    print(\"Iteration\", i)\n",
    "    print(\"Current max. Ri\", max(Ri))\n",
    "    print(\"Current max. Rj\", max(Rj))\n",
    "    i+=1\n",
    "print(\"Final Tij\\n\", Tij)"
   ]
  },
  {
   "cell_type": "markdown",
   "id": "b2117ea3",
   "metadata": {},
   "source": [
    "# Goodness of Fit (GoF) Analysis\n",
    "We'll work with a new set of trip data for the GoF analysis."
   ]
  },
  {
   "cell_type": "code",
   "execution_count": 38,
   "id": "8c8b1c49",
   "metadata": {
    "scrolled": true
   },
   "outputs": [],
   "source": [
    "# Load the observed data\n",
    "Tij_obs = np.loadtxt(\"obs_matrix.csv\", delimiter=\",\")\n",
    "# Load the predicted data\n",
    "Tij_pred = np.loadtxt(\"pred_matrix.csv\", delimiter=\",\")\n",
    "# Load the travel time data\n",
    "Tij_TT = np.loadtxt(\"tlfd_time_matrix.csv\", delimiter=\",\")"
   ]
  },
  {
   "cell_type": "markdown",
   "id": "7687524a",
   "metadata": {},
   "source": [
    "## $R^2$ Determination\n",
    "$R^2 = 1 - \\sum_i\\sum_j(T_{ij}obs-T_{ij}pred)^2/\\sum_i\\sum_j (T_{ij}obs-T_{0})^2$"
   ]
  },
  {
   "cell_type": "code",
   "execution_count": 19,
   "id": "36f83228",
   "metadata": {},
   "outputs": [
    {
     "name": "stdout",
     "output_type": "stream",
     "text": [
      "R2 0.7992923596393549\n"
     ]
    }
   ],
   "source": [
    "To = Tij_obs.sum()/Tij_obs.size\n",
    "R2 = 1 - ((Tij_obs - Tij_pred)**2).sum() / ((Tij_obs - To)**2).sum()\n",
    "print(\"R2\",R2)"
   ]
  },
  {
   "cell_type": "markdown",
   "id": "5b589753",
   "metadata": {},
   "source": [
    "## $\\chi^2$ Determination\n",
    "$\\chi^2 = \\sum_i\\sum_j((T_{ij}obs-T_{ij}pred)^2/T_{ij}pred)$"
   ]
  },
  {
   "cell_type": "code",
   "execution_count": 31,
   "id": "a341019d",
   "metadata": {},
   "outputs": [
    {
     "name": "stdout",
     "output_type": "stream",
     "text": [
      "chi2 49.44138306440484 chi2 test statistic 36.41502850180731\n"
     ]
    }
   ],
   "source": [
    "from scipy.stats import chi2\n",
    "\n",
    "chi_2 = ((Tij_obs - Tij_pred)**2 / Tij_pred).sum()\n",
    "df = Tij_obs.size - 1 # We have no. of observations minus one (because chi2 is a variance measure and takes up on df with differencing) degrees of freedom\n",
    "chi_2_test = chi2.ppf(0.95, df)\n",
    "print(\"chi2\",chi_2, \"chi2 test statistic\", chi_2_test)"
   ]
  },
  {
   "cell_type": "markdown",
   "id": "055389bd",
   "metadata": {},
   "source": [
    "### Mean Absolute Error Determination\n",
    "$MAE = \\sum_i\\sum_j |T_{ij}obs-T_{ij}pred|/n^2$"
   ]
  },
  {
   "cell_type": "code",
   "execution_count": 33,
   "id": "ecdf8fd9",
   "metadata": {},
   "outputs": [
    {
     "name": "stdout",
     "output_type": "stream",
     "text": [
      "MAE 4.72\n"
     ]
    }
   ],
   "source": [
    "MAE = np.abs(Tij_obs - Tij_pred).sum() / Tij_obs.size\n",
    "print(\"MAE\",MAE)"
   ]
  },
  {
   "cell_type": "markdown",
   "id": "0f070324",
   "metadata": {},
   "source": [
    "## Normalized $\\phi$\n",
    "$\\sum_i\\sum_j(T_{ij}obs-T)|ln(T_{ij}obs/T_{ij}pred)|$"
   ]
  },
  {
   "cell_type": "code",
   "execution_count": 37,
   "id": "492d7b8b",
   "metadata": {},
   "outputs": [
    {
     "name": "stdout",
     "output_type": "stream",
     "text": [
      "NORM_PHI 0.23887573051081798\n"
     ]
    }
   ],
   "source": [
    "NORM_PHI = (Tij_obs / Tij_obs.sum() * np.abs(np.log(Tij_obs / Tij_pred))).sum()\n",
    "print(\"NORM_PHI\", NORM_PHI)"
   ]
  },
  {
   "cell_type": "markdown",
   "id": "ae71f648",
   "metadata": {},
   "source": [
    "## Trip Length Distribution\n",
    "We can start by \"stacking\" the tables from matrices into vectors"
   ]
  },
  {
   "cell_type": "code",
   "execution_count": 39,
   "id": "87f6eda9",
   "metadata": {},
   "outputs": [],
   "source": [
    "Tij_obs_vect = np.reshape(Tij_obs,-1)\n",
    "Tij_pred_vect = np.reshape(Tij_pred,-1)\n",
    "Tij_TT_vect = np.reshape(Tij_TT,-1)"
   ]
  },
  {
   "cell_type": "markdown",
   "id": "13554556",
   "metadata": {},
   "source": [
    "We can then take the result, combine it into a 2D array (i.e., matrix), and sort the values by travel times (assume travel time is the first column)."
   ]
  },
  {
   "cell_type": "code",
   "execution_count": 51,
   "id": "4204ed8c",
   "metadata": {},
   "outputs": [
    {
     "name": "stdout",
     "output_type": "stream",
     "text": [
      "[[ 3.54 36.   24.  ]\n",
      " [ 7.   11.   15.  ]\n",
      " [ 7.74  7.    7.  ]\n",
      " [ 9.   40.   41.  ]\n",
      " [11.   52.   50.  ]\n",
      " [11.   10.   14.  ]\n",
      " [11.   25.   36.  ]\n",
      " [12.5   9.   12.  ]\n",
      " [13.   21.   30.  ]\n",
      " [13.65  6.    6.  ]\n",
      " [14.6  36.   45.  ]\n",
      " [15.   19.   21.  ]\n",
      " [16.   12.    9.  ]\n",
      " [19.    9.    5.  ]\n",
      " [24.    9.   13.  ]\n",
      " [24.   39.   36.  ]\n",
      " [28.5   7.    5.  ]\n",
      " [29.   22.   18.  ]\n",
      " [29.   29.   22.  ]\n",
      " [31.    6.    3.  ]\n",
      " [32.   13.   25.  ]\n",
      " [33.   27.   24.  ]\n",
      " [34.   18.   12.  ]\n",
      " [35.   13.    3.  ]\n",
      " [41.   12.   12.  ]]\n"
     ]
    }
   ],
   "source": [
    "comb_matrix = np.vstack((Tij_TT_vect,Tij_pred_vect,Tij_obs_vect)).T # np.hstack() won't work with C-style vectors because row major, so use np.vstack() and transpose\n",
    "comb_matrix = comb_matrix[comb_matrix[:, 0].argsort()] # Sort by the 0th column values\n",
    "print(comb_matrix)"
   ]
  },
  {
   "cell_type": "markdown",
   "id": "2b5b5b20",
   "metadata": {},
   "source": [
    "We want to calculate the cumulative frequency for both observed and predicted values. It would also be nice to have everything in a Pandas ```Dataframe``` with column names."
   ]
  },
  {
   "cell_type": "code",
   "execution_count": 57,
   "id": "7311d91b",
   "metadata": {},
   "outputs": [
    {
     "data": {
      "text/html": [
       "<div>\n",
       "<style scoped>\n",
       "    .dataframe tbody tr th:only-of-type {\n",
       "        vertical-align: middle;\n",
       "    }\n",
       "\n",
       "    .dataframe tbody tr th {\n",
       "        vertical-align: top;\n",
       "    }\n",
       "\n",
       "    .dataframe thead th {\n",
       "        text-align: right;\n",
       "    }\n",
       "</style>\n",
       "<table border=\"1\" class=\"dataframe\">\n",
       "  <thead>\n",
       "    <tr style=\"text-align: right;\">\n",
       "      <th></th>\n",
       "      <th>travel_time</th>\n",
       "      <th>pred_freq</th>\n",
       "      <th>obs_freq</th>\n",
       "      <th>cum_obs</th>\n",
       "      <th>cum_pred</th>\n",
       "    </tr>\n",
       "  </thead>\n",
       "  <tbody>\n",
       "    <tr>\n",
       "      <th>0</th>\n",
       "      <td>3.54</td>\n",
       "      <td>36.0</td>\n",
       "      <td>24.0</td>\n",
       "      <td>4.918033</td>\n",
       "      <td>7.377049</td>\n",
       "    </tr>\n",
       "    <tr>\n",
       "      <th>1</th>\n",
       "      <td>7.00</td>\n",
       "      <td>11.0</td>\n",
       "      <td>15.0</td>\n",
       "      <td>7.991803</td>\n",
       "      <td>9.631148</td>\n",
       "    </tr>\n",
       "    <tr>\n",
       "      <th>2</th>\n",
       "      <td>7.74</td>\n",
       "      <td>7.0</td>\n",
       "      <td>7.0</td>\n",
       "      <td>9.426230</td>\n",
       "      <td>11.065574</td>\n",
       "    </tr>\n",
       "    <tr>\n",
       "      <th>3</th>\n",
       "      <td>9.00</td>\n",
       "      <td>40.0</td>\n",
       "      <td>41.0</td>\n",
       "      <td>17.827869</td>\n",
       "      <td>19.262295</td>\n",
       "    </tr>\n",
       "    <tr>\n",
       "      <th>4</th>\n",
       "      <td>11.00</td>\n",
       "      <td>52.0</td>\n",
       "      <td>50.0</td>\n",
       "      <td>28.073770</td>\n",
       "      <td>29.918033</td>\n",
       "    </tr>\n",
       "    <tr>\n",
       "      <th>5</th>\n",
       "      <td>11.00</td>\n",
       "      <td>10.0</td>\n",
       "      <td>14.0</td>\n",
       "      <td>30.942623</td>\n",
       "      <td>31.967213</td>\n",
       "    </tr>\n",
       "    <tr>\n",
       "      <th>6</th>\n",
       "      <td>11.00</td>\n",
       "      <td>25.0</td>\n",
       "      <td>36.0</td>\n",
       "      <td>38.319672</td>\n",
       "      <td>37.090164</td>\n",
       "    </tr>\n",
       "    <tr>\n",
       "      <th>7</th>\n",
       "      <td>12.50</td>\n",
       "      <td>9.0</td>\n",
       "      <td>12.0</td>\n",
       "      <td>40.778689</td>\n",
       "      <td>38.934426</td>\n",
       "    </tr>\n",
       "    <tr>\n",
       "      <th>8</th>\n",
       "      <td>13.00</td>\n",
       "      <td>21.0</td>\n",
       "      <td>30.0</td>\n",
       "      <td>46.926230</td>\n",
       "      <td>43.237705</td>\n",
       "    </tr>\n",
       "    <tr>\n",
       "      <th>9</th>\n",
       "      <td>13.65</td>\n",
       "      <td>6.0</td>\n",
       "      <td>6.0</td>\n",
       "      <td>48.155738</td>\n",
       "      <td>44.467213</td>\n",
       "    </tr>\n",
       "    <tr>\n",
       "      <th>10</th>\n",
       "      <td>14.60</td>\n",
       "      <td>36.0</td>\n",
       "      <td>45.0</td>\n",
       "      <td>57.377049</td>\n",
       "      <td>51.844262</td>\n",
       "    </tr>\n",
       "    <tr>\n",
       "      <th>11</th>\n",
       "      <td>15.00</td>\n",
       "      <td>19.0</td>\n",
       "      <td>21.0</td>\n",
       "      <td>61.680328</td>\n",
       "      <td>55.737705</td>\n",
       "    </tr>\n",
       "    <tr>\n",
       "      <th>12</th>\n",
       "      <td>16.00</td>\n",
       "      <td>12.0</td>\n",
       "      <td>9.0</td>\n",
       "      <td>63.524590</td>\n",
       "      <td>58.196721</td>\n",
       "    </tr>\n",
       "    <tr>\n",
       "      <th>13</th>\n",
       "      <td>19.00</td>\n",
       "      <td>9.0</td>\n",
       "      <td>5.0</td>\n",
       "      <td>64.549180</td>\n",
       "      <td>60.040984</td>\n",
       "    </tr>\n",
       "    <tr>\n",
       "      <th>14</th>\n",
       "      <td>24.00</td>\n",
       "      <td>9.0</td>\n",
       "      <td>13.0</td>\n",
       "      <td>67.213115</td>\n",
       "      <td>61.885246</td>\n",
       "    </tr>\n",
       "    <tr>\n",
       "      <th>15</th>\n",
       "      <td>24.00</td>\n",
       "      <td>39.0</td>\n",
       "      <td>36.0</td>\n",
       "      <td>74.590164</td>\n",
       "      <td>69.877049</td>\n",
       "    </tr>\n",
       "    <tr>\n",
       "      <th>16</th>\n",
       "      <td>28.50</td>\n",
       "      <td>7.0</td>\n",
       "      <td>5.0</td>\n",
       "      <td>75.614754</td>\n",
       "      <td>71.311475</td>\n",
       "    </tr>\n",
       "    <tr>\n",
       "      <th>17</th>\n",
       "      <td>29.00</td>\n",
       "      <td>22.0</td>\n",
       "      <td>18.0</td>\n",
       "      <td>79.303279</td>\n",
       "      <td>75.819672</td>\n",
       "    </tr>\n",
       "    <tr>\n",
       "      <th>18</th>\n",
       "      <td>29.00</td>\n",
       "      <td>29.0</td>\n",
       "      <td>22.0</td>\n",
       "      <td>83.811475</td>\n",
       "      <td>81.762295</td>\n",
       "    </tr>\n",
       "    <tr>\n",
       "      <th>19</th>\n",
       "      <td>31.00</td>\n",
       "      <td>6.0</td>\n",
       "      <td>3.0</td>\n",
       "      <td>84.426230</td>\n",
       "      <td>82.991803</td>\n",
       "    </tr>\n",
       "    <tr>\n",
       "      <th>20</th>\n",
       "      <td>32.00</td>\n",
       "      <td>13.0</td>\n",
       "      <td>25.0</td>\n",
       "      <td>89.549180</td>\n",
       "      <td>85.655738</td>\n",
       "    </tr>\n",
       "    <tr>\n",
       "      <th>21</th>\n",
       "      <td>33.00</td>\n",
       "      <td>27.0</td>\n",
       "      <td>24.0</td>\n",
       "      <td>94.467213</td>\n",
       "      <td>91.188525</td>\n",
       "    </tr>\n",
       "    <tr>\n",
       "      <th>22</th>\n",
       "      <td>34.00</td>\n",
       "      <td>18.0</td>\n",
       "      <td>12.0</td>\n",
       "      <td>96.926230</td>\n",
       "      <td>94.877049</td>\n",
       "    </tr>\n",
       "    <tr>\n",
       "      <th>23</th>\n",
       "      <td>35.00</td>\n",
       "      <td>13.0</td>\n",
       "      <td>3.0</td>\n",
       "      <td>97.540984</td>\n",
       "      <td>97.540984</td>\n",
       "    </tr>\n",
       "    <tr>\n",
       "      <th>24</th>\n",
       "      <td>41.00</td>\n",
       "      <td>12.0</td>\n",
       "      <td>12.0</td>\n",
       "      <td>100.000000</td>\n",
       "      <td>100.000000</td>\n",
       "    </tr>\n",
       "  </tbody>\n",
       "</table>\n",
       "</div>"
      ],
      "text/plain": [
       "    travel_time  pred_freq  obs_freq     cum_obs    cum_pred\n",
       "0          3.54       36.0      24.0    4.918033    7.377049\n",
       "1          7.00       11.0      15.0    7.991803    9.631148\n",
       "2          7.74        7.0       7.0    9.426230   11.065574\n",
       "3          9.00       40.0      41.0   17.827869   19.262295\n",
       "4         11.00       52.0      50.0   28.073770   29.918033\n",
       "5         11.00       10.0      14.0   30.942623   31.967213\n",
       "6         11.00       25.0      36.0   38.319672   37.090164\n",
       "7         12.50        9.0      12.0   40.778689   38.934426\n",
       "8         13.00       21.0      30.0   46.926230   43.237705\n",
       "9         13.65        6.0       6.0   48.155738   44.467213\n",
       "10        14.60       36.0      45.0   57.377049   51.844262\n",
       "11        15.00       19.0      21.0   61.680328   55.737705\n",
       "12        16.00       12.0       9.0   63.524590   58.196721\n",
       "13        19.00        9.0       5.0   64.549180   60.040984\n",
       "14        24.00        9.0      13.0   67.213115   61.885246\n",
       "15        24.00       39.0      36.0   74.590164   69.877049\n",
       "16        28.50        7.0       5.0   75.614754   71.311475\n",
       "17        29.00       22.0      18.0   79.303279   75.819672\n",
       "18        29.00       29.0      22.0   83.811475   81.762295\n",
       "19        31.00        6.0       3.0   84.426230   82.991803\n",
       "20        32.00       13.0      25.0   89.549180   85.655738\n",
       "21        33.00       27.0      24.0   94.467213   91.188525\n",
       "22        34.00       18.0      12.0   96.926230   94.877049\n",
       "23        35.00       13.0       3.0   97.540984   97.540984\n",
       "24        41.00       12.0      12.0  100.000000  100.000000"
      ]
     },
     "execution_count": 57,
     "metadata": {},
     "output_type": "execute_result"
    }
   ],
   "source": [
    "import pandas as pd\n",
    "df = pd.DataFrame(data=comb_matrix,columns=[\"travel_time\",\"pred_freq\",\"obs_freq\"])\n",
    "df['cum_obs'] = (df[\"obs_freq\"].cumsum()/df[\"obs_freq\"].sum())*100\n",
    "df['cum_pred'] = (df[\"pred_freq\"].cumsum()/df[\"pred_freq\"].sum())*100\n",
    "df"
   ]
  },
  {
   "cell_type": "markdown",
   "id": "e80ea026",
   "metadata": {},
   "source": [
    "We can now plot these values using Matplotlib"
   ]
  },
  {
   "cell_type": "code",
   "execution_count": 69,
   "id": "250de003",
   "metadata": {},
   "outputs": [
    {
     "data": {
      "image/png": "[encoded data removed]",
      "text/plain": [
       "<Figure size 1080x720 with 1 Axes>"
      ]
     },
     "metadata": {},
     "output_type": "display_data"
    }
   ],
   "source": [
    "from matplotlib import pyplot as plt\n",
    "plt.style.use('seaborn-whitegrid')\n",
    "\n",
    "fig, ax = plt.subplots(figsize=(15,10))\n",
    "ax.plot(df['travel_time'], df['cum_obs'], '-b', label='Observed')\n",
    "ax.plot(df['travel_time'], df['cum_pred'], '-g', label='Predicted')\n",
    "ax.legend(loc='upper left', frameon=True);\n",
    "\n",
    "plt.xlabel('Trip Length (in minutes) for Auto Travel')\n",
    "plt.ylabel('Cumulative % Frequency')\n",
    "plt.title('Cumulative Trip Length Distribution');"
   ]
  },
  {
   "cell_type": "code",
   "execution_count": null,
   "id": "7dde9bef",
   "metadata": {},
   "outputs": [],
   "source": []
  }
 ],
 "metadata": {
  "kernelspec": {
   "display_name": "Python 3 (ipykernel)",
   "language": "python",
   "name": "python3"
  },
  "language_info": {
   "codemirror_mode": {
    "name": "ipython",
    "version": 3
   },
   "file_extension": ".py",
   "mimetype": "text/x-python",
   "name": "python",
   "nbconvert_exporter": "python",
   "pygments_lexer": "ipython3",
   "version": "3.9.7"
  }
 },
 "nbformat": 4,
 "nbformat_minor": 5
}
