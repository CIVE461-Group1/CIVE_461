{
 "cells": [
  {
   "cell_type": "markdown",
   "metadata": {},
   "source": [
    "# Regression and Data Analysis in Python\n",
    "This tutorial focuses on some basic tools for regression analysis and data visualization available in Python. The main tools are Pandas and StatsModels. Pandas is a powerful data storage engine built in a combination of C++ (for speed) and Python (for accessiblity). StatsModels is a Python package developed by a group of econometricians that implements a variety of regression and discrete choice models. We will also show some basic plotting functionalities using matplotlib.\n",
    "\n",
    "The dataset used in this tutorial is Q4 bikeshare data for the City of Toronto. We link this data with weather data to provide additional explanatory variables. The data is essentially imported to Python with no pre-processing to show the ability of Python to handle these tasks. We must first import the necessary Python packages."
   ]
  },
  {
   "cell_type": "code",
   "execution_count": 48,
   "metadata": {},
   "outputs": [],
   "source": [
    "import numpy as np\n",
    "import pandas as pd\n",
    "import matplotlib.pyplot as plt\n",
    "import statsmodels.api as sm\n",
    "import statsmodels.formula.api as smf\n",
    "import statsmodels.stats.api as sms\n",
    "from statsmodels.compat import lzip\n",
    "import seaborn as sns\n",
    "sns.set()  # use Seaborn styles. "
   ]
  },
  {
   "cell_type": "markdown",
   "metadata": {},
   "source": [
    "We can now import the two datasets from csv files using Pandas. This package can also import STATA, shapefile, and a wide variety of other formats with minimal effort."
   ]
  },
  {
   "cell_type": "code",
   "execution_count": 2,
   "metadata": {},
   "outputs": [
    {
     "data": {
      "text/html": [
       "<div>\n",
       "<style scoped>\n",
       "    .dataframe tbody tr th:only-of-type {\n",
       "        vertical-align: middle;\n",
       "    }\n",
       "\n",
       "    .dataframe tbody tr th {\n",
       "        vertical-align: top;\n",
       "    }\n",
       "\n",
       "    .dataframe thead th {\n",
       "        text-align: right;\n",
       "    }\n",
       "</style>\n",
       "<table border=\"1\" class=\"dataframe\">\n",
       "  <thead>\n",
       "    <tr style=\"text-align: right;\">\n",
       "      <th></th>\n",
       "      <th>trip_id</th>\n",
       "      <th>trip_start_time</th>\n",
       "      <th>trip_stop_time</th>\n",
       "      <th>trip_duration_seconds</th>\n",
       "      <th>from_station_name</th>\n",
       "      <th>to_station_name</th>\n",
       "      <th>user_type</th>\n",
       "    </tr>\n",
       "  </thead>\n",
       "  <tbody>\n",
       "    <tr>\n",
       "      <th>0</th>\n",
       "      <td>462305</td>\n",
       "      <td>1-10-16 0:00</td>\n",
       "      <td>1-10-16 0:07</td>\n",
       "      <td>394</td>\n",
       "      <td>Queens Quay W / Dan Leckie Way</td>\n",
       "      <td>Fort York Blvd / Garrison Rd</td>\n",
       "      <td>Casual</td>\n",
       "    </tr>\n",
       "    <tr>\n",
       "      <th>1</th>\n",
       "      <td>462306</td>\n",
       "      <td>1-10-16 0:00</td>\n",
       "      <td>1-10-16 0:09</td>\n",
       "      <td>533</td>\n",
       "      <td>Sherbourne St / Wellesley St</td>\n",
       "      <td>Edward St / Yonge St</td>\n",
       "      <td>Member</td>\n",
       "    </tr>\n",
       "    <tr>\n",
       "      <th>2</th>\n",
       "      <td>462307</td>\n",
       "      <td>1-10-16 0:00</td>\n",
       "      <td>1-10-16 0:07</td>\n",
       "      <td>383</td>\n",
       "      <td>Queens Quay W / Dan Leckie Way</td>\n",
       "      <td>Fort York Blvd / Garrison Rd</td>\n",
       "      <td>Casual</td>\n",
       "    </tr>\n",
       "    <tr>\n",
       "      <th>3</th>\n",
       "      <td>462308</td>\n",
       "      <td>1-10-16 0:01</td>\n",
       "      <td>1-10-16 0:27</td>\n",
       "      <td>1557</td>\n",
       "      <td>Cherry St / Distillery Ln</td>\n",
       "      <td>Fort York  Blvd / Capreol Crt</td>\n",
       "      <td>Casual</td>\n",
       "    </tr>\n",
       "    <tr>\n",
       "      <th>4</th>\n",
       "      <td>462309</td>\n",
       "      <td>1-10-16 0:01</td>\n",
       "      <td>1-10-16 0:27</td>\n",
       "      <td>1547</td>\n",
       "      <td>Cherry St / Distillery Ln</td>\n",
       "      <td>Fort York  Blvd / Capreol Crt</td>\n",
       "      <td>Casual</td>\n",
       "    </tr>\n",
       "  </tbody>\n",
       "</table>\n",
       "</div>"
      ],
      "text/plain": [
       "   trip_id trip_start_time trip_stop_time  trip_duration_seconds  \\\n",
       "0   462305    1-10-16 0:00   1-10-16 0:07                    394   \n",
       "1   462306    1-10-16 0:00   1-10-16 0:09                    533   \n",
       "2   462307    1-10-16 0:00   1-10-16 0:07                    383   \n",
       "3   462308    1-10-16 0:01   1-10-16 0:27                   1557   \n",
       "4   462309    1-10-16 0:01   1-10-16 0:27                   1547   \n",
       "\n",
       "                from_station_name                to_station_name user_type  \n",
       "0  Queens Quay W / Dan Leckie Way   Fort York Blvd / Garrison Rd    Casual  \n",
       "1    Sherbourne St / Wellesley St           Edward St / Yonge St    Member  \n",
       "2  Queens Quay W / Dan Leckie Way   Fort York Blvd / Garrison Rd    Casual  \n",
       "3       Cherry St / Distillery Ln  Fort York  Blvd / Capreol Crt    Casual  \n",
       "4       Cherry St / Distillery Ln  Fort York  Blvd / Capreol Crt    Casual  "
      ]
     },
     "execution_count": 2,
     "metadata": {},
     "output_type": "execute_result"
    }
   ],
   "source": [
    "dfB = pd.read_csv('../Data/2016_Bike_Share_Toronto_Ridership_Q4.csv',sep=',')\n",
    "dfW = pd.read_csv('../Data/weather_2016_Q4.csv',sep=',')\n",
    "dfB.head()"
   ]
  },
  {
   "cell_type": "code",
   "execution_count": 3,
   "metadata": {
    "scrolled": true
   },
   "outputs": [
    {
     "data": {
      "text/html": [
       "<div>\n",
       "<style scoped>\n",
       "    .dataframe tbody tr th:only-of-type {\n",
       "        vertical-align: middle;\n",
       "    }\n",
       "\n",
       "    .dataframe tbody tr th {\n",
       "        vertical-align: top;\n",
       "    }\n",
       "\n",
       "    .dataframe thead th {\n",
       "        text-align: right;\n",
       "    }\n",
       "</style>\n",
       "<table border=\"1\" class=\"dataframe\">\n",
       "  <thead>\n",
       "    <tr style=\"text-align: right;\">\n",
       "      <th></th>\n",
       "      <th>trip_id</th>\n",
       "      <th>trip_start_time</th>\n",
       "      <th>trip_stop_time</th>\n",
       "      <th>trip_duration_seconds</th>\n",
       "      <th>from_station_name</th>\n",
       "      <th>to_station_name</th>\n",
       "      <th>user_type</th>\n",
       "    </tr>\n",
       "  </thead>\n",
       "  <tbody>\n",
       "    <tr>\n",
       "      <th>217564</th>\n",
       "      <td>712377</td>\n",
       "      <td>31/12/2016 23:26</td>\n",
       "      <td>31/12/2016 23:39</td>\n",
       "      <td>824</td>\n",
       "      <td>Union Station</td>\n",
       "      <td>Gould St / Mutual St</td>\n",
       "      <td>Member</td>\n",
       "    </tr>\n",
       "    <tr>\n",
       "      <th>217565</th>\n",
       "      <td>712378</td>\n",
       "      <td>31/12/2016 23:26</td>\n",
       "      <td>31/12/2016 23:34</td>\n",
       "      <td>478</td>\n",
       "      <td>Bay St / College St (East Side)</td>\n",
       "      <td>Beverly  St / Dundas St W</td>\n",
       "      <td>Member</td>\n",
       "    </tr>\n",
       "    <tr>\n",
       "      <th>217566</th>\n",
       "      <td>712379</td>\n",
       "      <td>31/12/2016 23:33</td>\n",
       "      <td>31/12/2016 23:38</td>\n",
       "      <td>271</td>\n",
       "      <td>Temperance St / Yonge St</td>\n",
       "      <td>Victoria St / Gould St (Ryerson University)</td>\n",
       "      <td>Member</td>\n",
       "    </tr>\n",
       "    <tr>\n",
       "      <th>217567</th>\n",
       "      <td>712380</td>\n",
       "      <td>31/12/2016 23:37</td>\n",
       "      <td>31/12/2016 23:58</td>\n",
       "      <td>1253</td>\n",
       "      <td>Christie St / Benson Ave (Wychwood Barns)</td>\n",
       "      <td>Wellesley St E / Yonge St Green P</td>\n",
       "      <td>Member</td>\n",
       "    </tr>\n",
       "    <tr>\n",
       "      <th>217568</th>\n",
       "      <td>712381</td>\n",
       "      <td>31/12/2016 23:40</td>\n",
       "      <td>31/12/2016 23:48</td>\n",
       "      <td>478</td>\n",
       "      <td>Ted Rogers Way / Bloor St E</td>\n",
       "      <td>St George St / Bloor St W</td>\n",
       "      <td>Member</td>\n",
       "    </tr>\n",
       "  </tbody>\n",
       "</table>\n",
       "</div>"
      ],
      "text/plain": [
       "        trip_id   trip_start_time    trip_stop_time  trip_duration_seconds  \\\n",
       "217564   712377  31/12/2016 23:26  31/12/2016 23:39                    824   \n",
       "217565   712378  31/12/2016 23:26  31/12/2016 23:34                    478   \n",
       "217566   712379  31/12/2016 23:33  31/12/2016 23:38                    271   \n",
       "217567   712380  31/12/2016 23:37  31/12/2016 23:58                   1253   \n",
       "217568   712381  31/12/2016 23:40  31/12/2016 23:48                    478   \n",
       "\n",
       "                                from_station_name  \\\n",
       "217564                              Union Station   \n",
       "217565            Bay St / College St (East Side)   \n",
       "217566                   Temperance St / Yonge St   \n",
       "217567  Christie St / Benson Ave (Wychwood Barns)   \n",
       "217568                Ted Rogers Way / Bloor St E   \n",
       "\n",
       "                                    to_station_name user_type  \n",
       "217564                         Gould St / Mutual St    Member  \n",
       "217565                    Beverly  St / Dundas St W    Member  \n",
       "217566  Victoria St / Gould St (Ryerson University)    Member  \n",
       "217567            Wellesley St E / Yonge St Green P    Member  \n",
       "217568                    St George St / Bloor St W    Member  "
      ]
     },
     "execution_count": 3,
     "metadata": {},
     "output_type": "execute_result"
    }
   ],
   "source": [
    "dfB.tail()"
   ]
  },
  {
   "cell_type": "markdown",
   "metadata": {},
   "source": [
    "It is clear that the 'trip_start_time' column in the bikeshare data does not have a consistent data-time format. We also want to breakup the date and time into components to facilitate easy of data analysis. This could be done in a spreadsheet, but Pandas provides a way to convert the data into a consistent datetime format, even with multiple input datetime formats (as in our case). The same process can be used for the weather data."
   ]
  },
  {
   "cell_type": "code",
   "execution_count": 4,
   "metadata": {},
   "outputs": [],
   "source": [
    "dfB.loc[:, 'trip_start_time'] = pd.to_datetime(dfB['trip_start_time'])\n",
    "dfB.loc[:, 'trip_stop_time'] = pd.to_datetime(dfB['trip_stop_time'])\n",
    "dfW.loc[:, 'date_time'] = pd.to_datetime(dfW['date_time'])"
   ]
  },
  {
   "cell_type": "markdown",
   "metadata": {},
   "source": [
    "Once thde data are converted to a consistent datetime format, the indivual components can be put in their own columns within the Pandas dataframe."
   ]
  },
  {
   "cell_type": "code",
   "execution_count": 5,
   "metadata": {},
   "outputs": [],
   "source": [
    "dfB.loc[:, 'trip_month'] = dfB['trip_start_time'].dt.month\n",
    "dfB.loc[:, 'trip_start_hour'] = dfB['trip_start_time'].dt.hour\n",
    "dfB.loc[:, 'day_of_week'] = dfB['trip_start_time'].dt.dayofweek\n",
    "dfB.loc[:, 'trip_date'] = dfB['trip_start_time'].dt.date\n",
    "dfW.loc[:, 'weather_date'] = dfW['date_time'].dt.date"
   ]
  },
  {
   "cell_type": "markdown",
   "metadata": {},
   "source": [
    "Pandas includes a variety of dataframe joining methods. The .merge() function functions similar to a database operation, allowing for left, right, inner, and outer joins. In the next line of code, we join the bikeshare and weather data on the date."
   ]
  },
  {
   "cell_type": "code",
   "execution_count": 33,
   "metadata": {},
   "outputs": [
    {
     "data": {
      "text/html": [
       "<div>\n",
       "<style scoped>\n",
       "    .dataframe tbody tr th:only-of-type {\n",
       "        vertical-align: middle;\n",
       "    }\n",
       "\n",
       "    .dataframe tbody tr th {\n",
       "        vertical-align: top;\n",
       "    }\n",
       "\n",
       "    .dataframe thead th {\n",
       "        text-align: right;\n",
       "    }\n",
       "</style>\n",
       "<table border=\"1\" class=\"dataframe\">\n",
       "  <thead>\n",
       "    <tr style=\"text-align: right;\">\n",
       "      <th></th>\n",
       "      <th>trip_id</th>\n",
       "      <th>trip_start_time</th>\n",
       "      <th>trip_stop_time</th>\n",
       "      <th>trip_duration_seconds</th>\n",
       "      <th>from_station_name</th>\n",
       "      <th>to_station_name</th>\n",
       "      <th>user_type</th>\n",
       "      <th>trip_month</th>\n",
       "      <th>trip_start_hour</th>\n",
       "      <th>day_of_week</th>\n",
       "      <th>...</th>\n",
       "      <th>visibility</th>\n",
       "      <th>visibility flag</th>\n",
       "      <th>stn press (kPa)</th>\n",
       "      <th>stn press flag</th>\n",
       "      <th>hmdx</th>\n",
       "      <th>hmdx Flag</th>\n",
       "      <th>wind chill</th>\n",
       "      <th>wind chill flag</th>\n",
       "      <th>weather</th>\n",
       "      <th>weather_date</th>\n",
       "    </tr>\n",
       "  </thead>\n",
       "  <tbody>\n",
       "    <tr>\n",
       "      <th>0</th>\n",
       "      <td>501394</td>\n",
       "      <td>2016-10-10</td>\n",
       "      <td>2016-10-10 00:27:00</td>\n",
       "      <td>1597</td>\n",
       "      <td>Essex St / Christie St</td>\n",
       "      <td>Danforth Ave / Ellerbeck St</td>\n",
       "      <td>Member</td>\n",
       "      <td>10</td>\n",
       "      <td>0</td>\n",
       "      <td>0</td>\n",
       "      <td>...</td>\n",
       "      <td>16.1</td>\n",
       "      <td>NaN</td>\n",
       "      <td>101.97</td>\n",
       "      <td>NaN</td>\n",
       "      <td>NaN</td>\n",
       "      <td>NaN</td>\n",
       "      <td>NaN</td>\n",
       "      <td>NaN</td>\n",
       "      <td>NaN</td>\n",
       "      <td>2016-10-10</td>\n",
       "    </tr>\n",
       "    <tr>\n",
       "      <th>1</th>\n",
       "      <td>501394</td>\n",
       "      <td>2016-10-10</td>\n",
       "      <td>2016-10-10 00:27:00</td>\n",
       "      <td>1597</td>\n",
       "      <td>Essex St / Christie St</td>\n",
       "      <td>Danforth Ave / Ellerbeck St</td>\n",
       "      <td>Member</td>\n",
       "      <td>10</td>\n",
       "      <td>0</td>\n",
       "      <td>0</td>\n",
       "      <td>...</td>\n",
       "      <td>16.1</td>\n",
       "      <td>NaN</td>\n",
       "      <td>101.98</td>\n",
       "      <td>NaN</td>\n",
       "      <td>NaN</td>\n",
       "      <td>NaN</td>\n",
       "      <td>NaN</td>\n",
       "      <td>NaN</td>\n",
       "      <td>NaN</td>\n",
       "      <td>2016-10-10</td>\n",
       "    </tr>\n",
       "    <tr>\n",
       "      <th>2</th>\n",
       "      <td>501394</td>\n",
       "      <td>2016-10-10</td>\n",
       "      <td>2016-10-10 00:27:00</td>\n",
       "      <td>1597</td>\n",
       "      <td>Essex St / Christie St</td>\n",
       "      <td>Danforth Ave / Ellerbeck St</td>\n",
       "      <td>Member</td>\n",
       "      <td>10</td>\n",
       "      <td>0</td>\n",
       "      <td>0</td>\n",
       "      <td>...</td>\n",
       "      <td>16.1</td>\n",
       "      <td>NaN</td>\n",
       "      <td>102.03</td>\n",
       "      <td>NaN</td>\n",
       "      <td>NaN</td>\n",
       "      <td>NaN</td>\n",
       "      <td>NaN</td>\n",
       "      <td>NaN</td>\n",
       "      <td>NaN</td>\n",
       "      <td>2016-10-10</td>\n",
       "    </tr>\n",
       "    <tr>\n",
       "      <th>3</th>\n",
       "      <td>501394</td>\n",
       "      <td>2016-10-10</td>\n",
       "      <td>2016-10-10 00:27:00</td>\n",
       "      <td>1597</td>\n",
       "      <td>Essex St / Christie St</td>\n",
       "      <td>Danforth Ave / Ellerbeck St</td>\n",
       "      <td>Member</td>\n",
       "      <td>10</td>\n",
       "      <td>0</td>\n",
       "      <td>0</td>\n",
       "      <td>...</td>\n",
       "      <td>16.1</td>\n",
       "      <td>NaN</td>\n",
       "      <td>102.03</td>\n",
       "      <td>NaN</td>\n",
       "      <td>NaN</td>\n",
       "      <td>NaN</td>\n",
       "      <td>NaN</td>\n",
       "      <td>NaN</td>\n",
       "      <td>NaN</td>\n",
       "      <td>2016-10-10</td>\n",
       "    </tr>\n",
       "    <tr>\n",
       "      <th>4</th>\n",
       "      <td>501394</td>\n",
       "      <td>2016-10-10</td>\n",
       "      <td>2016-10-10 00:27:00</td>\n",
       "      <td>1597</td>\n",
       "      <td>Essex St / Christie St</td>\n",
       "      <td>Danforth Ave / Ellerbeck St</td>\n",
       "      <td>Member</td>\n",
       "      <td>10</td>\n",
       "      <td>0</td>\n",
       "      <td>0</td>\n",
       "      <td>...</td>\n",
       "      <td>16.1</td>\n",
       "      <td>NaN</td>\n",
       "      <td>102.06</td>\n",
       "      <td>NaN</td>\n",
       "      <td>NaN</td>\n",
       "      <td>NaN</td>\n",
       "      <td>NaN</td>\n",
       "      <td>NaN</td>\n",
       "      <td>NaN</td>\n",
       "      <td>2016-10-10</td>\n",
       "    </tr>\n",
       "  </tbody>\n",
       "</table>\n",
       "<p>5 rows × 36 columns</p>\n",
       "</div>"
      ],
      "text/plain": [
       "   trip_id trip_start_time      trip_stop_time  trip_duration_seconds  \\\n",
       "0   501394      2016-10-10 2016-10-10 00:27:00                   1597   \n",
       "1   501394      2016-10-10 2016-10-10 00:27:00                   1597   \n",
       "2   501394      2016-10-10 2016-10-10 00:27:00                   1597   \n",
       "3   501394      2016-10-10 2016-10-10 00:27:00                   1597   \n",
       "4   501394      2016-10-10 2016-10-10 00:27:00                   1597   \n",
       "\n",
       "        from_station_name              to_station_name user_type  trip_month  \\\n",
       "0  Essex St / Christie St  Danforth Ave / Ellerbeck St    Member          10   \n",
       "1  Essex St / Christie St  Danforth Ave / Ellerbeck St    Member          10   \n",
       "2  Essex St / Christie St  Danforth Ave / Ellerbeck St    Member          10   \n",
       "3  Essex St / Christie St  Danforth Ave / Ellerbeck St    Member          10   \n",
       "4  Essex St / Christie St  Danforth Ave / Ellerbeck St    Member          10   \n",
       "\n",
       "   trip_start_hour  day_of_week  ... visibility visibility flag  \\\n",
       "0                0            0  ...       16.1             NaN   \n",
       "1                0            0  ...       16.1             NaN   \n",
       "2                0            0  ...       16.1             NaN   \n",
       "3                0            0  ...       16.1             NaN   \n",
       "4                0            0  ...       16.1             NaN   \n",
       "\n",
       "   stn press (kPa)  stn press flag  hmdx hmdx Flag  wind chill  \\\n",
       "0           101.97             NaN   NaN       NaN         NaN   \n",
       "1           101.98             NaN   NaN       NaN         NaN   \n",
       "2           102.03             NaN   NaN       NaN         NaN   \n",
       "3           102.03             NaN   NaN       NaN         NaN   \n",
       "4           102.06             NaN   NaN       NaN         NaN   \n",
       "\n",
       "   wind chill flag  weather  weather_date  \n",
       "0              NaN      NaN    2016-10-10  \n",
       "1              NaN      NaN    2016-10-10  \n",
       "2              NaN      NaN    2016-10-10  \n",
       "3              NaN      NaN    2016-10-10  \n",
       "4              NaN      NaN    2016-10-10  \n",
       "\n",
       "[5 rows x 36 columns]"
      ]
     },
     "execution_count": 33,
     "metadata": {},
     "output_type": "execute_result"
    }
   ],
   "source": [
    "df = pd.merge(dfB, dfW, left_on='trip_date', right_on='weather_date')\n",
    "df = df.dropna(subset=['trip_start_hour','temp','wind_spd'])\n",
    "df.head()"
   ]
  },
  {
   "cell_type": "markdown",
   "metadata": {},
   "source": [
    "Our new dataframe has the following columns."
   ]
  },
  {
   "cell_type": "code",
   "execution_count": 34,
   "metadata": {
    "scrolled": true
   },
   "outputs": [
    {
     "data": {
      "text/plain": [
       "Index(['trip_id', 'trip_start_time', 'trip_stop_time', 'trip_duration_seconds',\n",
       "       'from_station_name', 'to_station_name', 'user_type', 'trip_month',\n",
       "       'trip_start_hour', 'day_of_week', 'trip_date', 'date_time', 'year',\n",
       "       'month', 'day', 'time', 'temp', 'temp flag', 'dew point',\n",
       "       'dew point flag', 'rel_hum', 'rel hum flag', 'wind dir (10s degrees)',\n",
       "       'wind dir flag', 'wind_spd', 'wind speed flag', 'visibility',\n",
       "       'visibility flag', 'stn press (kPa)', 'stn press flag', 'hmdx',\n",
       "       'hmdx Flag', 'wind chill', 'wind chill flag', 'weather',\n",
       "       'weather_date'],\n",
       "      dtype='object')"
      ]
     },
     "execution_count": 34,
     "metadata": {},
     "output_type": "execute_result"
    }
   ],
   "source": [
    "df.columns"
   ]
  },
  {
   "cell_type": "markdown",
   "metadata": {},
   "source": [
    "## Basic OLS model"
   ]
  },
  {
   "cell_type": "markdown",
   "metadata": {},
   "source": [
    "Writing models using StatsModels is quite straightforward. It is made easier using the patsy function syntax used below. This includes the ability to write regression models in standard text using the column names from the dataframe.\n",
    "\n",
    "StatsModels provides an extensive output, including the R-squared, AIC, BIC, and log likelihood. The R-squared in this first model is very low. We can probably do better."
   ]
  },
  {
   "cell_type": "code",
   "execution_count": 35,
   "metadata": {
    "scrolled": false
   },
   "outputs": [
    {
     "name": "stdout",
     "output_type": "stream",
     "text": [
      "                              OLS Regression Results                             \n",
      "=================================================================================\n",
      "Dep. Variable:     trip_duration_seconds   R-squared:                       0.004\n",
      "Model:                               OLS   Adj. R-squared:                  0.004\n",
      "Method:                    Least Squares   F-statistic:                     4193.\n",
      "Date:                   Thu, 02 Jun 2022   Prob (F-statistic):               0.00\n",
      "Time:                           14:28:36   Log-Likelihood:            -2.6773e+07\n",
      "No. Observations:                3284246   AIC:                         5.355e+07\n",
      "Df Residuals:                    3284242   BIC:                         5.355e+07\n",
      "Df Model:                              3                                         \n",
      "Covariance Type:               nonrobust                                         \n",
      "===================================================================================\n",
      "                      coef    std err          t      P>|t|      [0.025      0.975]\n",
      "-----------------------------------------------------------------------------------\n",
      "Intercept         652.7827      1.567    416.499      0.000     649.711     655.855\n",
      "trip_start_hour     5.0881      0.068     74.419      0.000       4.954       5.222\n",
      "temp                5.4264      0.072     75.328      0.000       5.285       5.568\n",
      "wind_spd           -1.1504      0.049    -23.712      0.000      -1.245      -1.055\n",
      "==============================================================================\n",
      "Omnibus:                  4550079.356   Durbin-Watson:                   0.072\n",
      "Prob(Omnibus):                  0.000   Jarque-Bera (JB):       1221803447.310\n",
      "Skew:                           8.205   Prob(JB):                         0.00\n",
      "Kurtosis:                      96.055   Cond. No.                         86.8\n",
      "==============================================================================\n",
      "\n",
      "Notes:\n",
      "[1] Standard Errors assume that the covariance matrix of the errors is correctly specified.\n"
     ]
    }
   ],
   "source": [
    "mod = smf.ols(formula='trip_duration_seconds ~ trip_start_hour + temp + wind_spd', data=df)\n",
    "res = mod.fit()\n",
    "print(res.summary())"
   ]
  },
  {
   "cell_type": "markdown",
   "metadata": {},
   "source": [
    "The patsy syntax allows us to define categorical variables by simply enclosing a dataframe column name in C(). We include additional user, temporal, and weather data in this model. It is likely that trip length will vary by the weather and user type."
   ]
  },
  {
   "cell_type": "code",
   "execution_count": 36,
   "metadata": {
    "scrolled": true
   },
   "outputs": [
    {
     "name": "stdout",
     "output_type": "stream",
     "text": [
      "                              OLS Regression Results                             \n",
      "=================================================================================\n",
      "Dep. Variable:     trip_duration_seconds   R-squared:                       0.138\n",
      "Model:                               OLS   Adj. R-squared:                  0.138\n",
      "Method:                    Least Squares   F-statistic:                 4.785e+04\n",
      "Date:                   Thu, 02 Jun 2022   Prob (F-statistic):               0.00\n",
      "Time:                           14:28:58   Log-Likelihood:            -2.6536e+07\n",
      "No. Observations:                3284246   AIC:                         5.307e+07\n",
      "Df Residuals:                    3284234   BIC:                         5.307e+07\n",
      "Df Model:                             11                                         \n",
      "Covariance Type:               nonrobust                                         \n",
      "==========================================================================================\n",
      "                             coef    std err          t      P>|t|      [0.025      0.975]\n",
      "------------------------------------------------------------------------------------------\n",
      "Intercept               1604.9900      3.482    460.996      0.000    1598.166    1611.814\n",
      "C(user_type)[T.Member]  -986.5230      1.423   -693.484      0.000    -989.311    -983.735\n",
      "C(day_of_week)[T.1]       -8.3655      1.540     -5.431      0.000     -11.385      -5.346\n",
      "C(day_of_week)[T.2]        3.2771      1.567      2.092      0.036       0.207       6.348\n",
      "C(day_of_week)[T.3]      -18.7727      1.603    -11.714      0.000     -21.914     -15.632\n",
      "C(day_of_week)[T.4]       -5.6576      1.563     -3.621      0.000      -8.720      -2.595\n",
      "C(day_of_week)[T.5]       25.1544      1.643     15.310      0.000      21.934      28.375\n",
      "C(day_of_week)[T.6]       50.0339      1.769     28.281      0.000      46.566      53.501\n",
      "trip_start_hour            3.6451      0.064     57.122      0.000       3.520       3.770\n",
      "temp                       0.8365      0.068     12.302      0.000       0.703       0.970\n",
      "wind_spd                  -0.7226      0.048    -15.200      0.000      -0.816      -0.629\n",
      "rel_hum                   -0.3652      0.034    -10.775      0.000      -0.432      -0.299\n",
      "==============================================================================\n",
      "Omnibus:                  4373754.830   Durbin-Watson:                   0.074\n",
      "Prob(Omnibus):                  0.000   Jarque-Bera (JB):       1115712248.241\n",
      "Skew:                           7.602   Prob(JB):                         0.00\n",
      "Kurtosis:                      92.006   Cond. No.                         689.\n",
      "==============================================================================\n",
      "\n",
      "Notes:\n",
      "[1] Standard Errors assume that the covariance matrix of the errors is correctly specified.\n"
     ]
    }
   ],
   "source": [
    "mod = smf.ols(formula='trip_duration_seconds ~ C(user_type) + C(day_of_week) + trip_start_hour + temp + wind_spd + rel_hum', data=df)\n",
    "res = mod.fit()\n",
    "print(res.summary())"
   ]
  },
  {
   "cell_type": "markdown",
   "metadata": {},
   "source": [
    "This is a better fit, but still not fantastic. We can print statistics on the dataframe using the .describe() function."
   ]
  },
  {
   "cell_type": "code",
   "execution_count": 37,
   "metadata": {
    "scrolled": true
   },
   "outputs": [
    {
     "data": {
      "text/html": [
       "<div>\n",
       "<style scoped>\n",
       "    .dataframe tbody tr th:only-of-type {\n",
       "        vertical-align: middle;\n",
       "    }\n",
       "\n",
       "    .dataframe tbody tr th {\n",
       "        vertical-align: top;\n",
       "    }\n",
       "\n",
       "    .dataframe thead th {\n",
       "        text-align: right;\n",
       "    }\n",
       "</style>\n",
       "<table border=\"1\" class=\"dataframe\">\n",
       "  <thead>\n",
       "    <tr style=\"text-align: right;\">\n",
       "      <th></th>\n",
       "      <th>trip_id</th>\n",
       "      <th>trip_duration_seconds</th>\n",
       "      <th>trip_month</th>\n",
       "      <th>trip_start_hour</th>\n",
       "      <th>day_of_week</th>\n",
       "      <th>year</th>\n",
       "      <th>month</th>\n",
       "      <th>day</th>\n",
       "      <th>temp</th>\n",
       "      <th>temp flag</th>\n",
       "      <th>...</th>\n",
       "      <th>rel hum flag</th>\n",
       "      <th>wind dir (10s degrees)</th>\n",
       "      <th>wind_spd</th>\n",
       "      <th>visibility</th>\n",
       "      <th>stn press (kPa)</th>\n",
       "      <th>stn press flag</th>\n",
       "      <th>hmdx</th>\n",
       "      <th>hmdx Flag</th>\n",
       "      <th>wind chill</th>\n",
       "      <th>wind chill flag</th>\n",
       "    </tr>\n",
       "  </thead>\n",
       "  <tbody>\n",
       "    <tr>\n",
       "      <th>count</th>\n",
       "      <td>3.284246e+06</td>\n",
       "      <td>3.284246e+06</td>\n",
       "      <td>3.284246e+06</td>\n",
       "      <td>3.284246e+06</td>\n",
       "      <td>3.284246e+06</td>\n",
       "      <td>3284246.0</td>\n",
       "      <td>3.284246e+06</td>\n",
       "      <td>3.284246e+06</td>\n",
       "      <td>3.284246e+06</td>\n",
       "      <td>0.0</td>\n",
       "      <td>...</td>\n",
       "      <td>0.0</td>\n",
       "      <td>3.150433e+06</td>\n",
       "      <td>3.284246e+06</td>\n",
       "      <td>3.284246e+06</td>\n",
       "      <td>3.284246e+06</td>\n",
       "      <td>0.0</td>\n",
       "      <td>55924.000000</td>\n",
       "      <td>0.0</td>\n",
       "      <td>465023.000000</td>\n",
       "      <td>0.0</td>\n",
       "    </tr>\n",
       "    <tr>\n",
       "      <th>mean</th>\n",
       "      <td>5.985200e+05</td>\n",
       "      <td>7.500344e+02</td>\n",
       "      <td>1.070217e+01</td>\n",
       "      <td>1.503079e+01</td>\n",
       "      <td>2.777930e+00</td>\n",
       "      <td>2016.0</td>\n",
       "      <td>1.070217e+01</td>\n",
       "      <td>1.945613e+01</td>\n",
       "      <td>7.540466e+00</td>\n",
       "      <td>NaN</td>\n",
       "      <td>...</td>\n",
       "      <td>NaN</td>\n",
       "      <td>2.121335e+01</td>\n",
       "      <td>1.751053e+01</td>\n",
       "      <td>1.509810e+01</td>\n",
       "      <td>1.008337e+02</td>\n",
       "      <td>NaN</td>\n",
       "      <td>26.311101</td>\n",
       "      <td>NaN</td>\n",
       "      <td>-9.169824</td>\n",
       "      <td>NaN</td>\n",
       "    </tr>\n",
       "    <tr>\n",
       "      <th>std</th>\n",
       "      <td>6.352197e+04</td>\n",
       "      <td>8.413695e+02</td>\n",
       "      <td>7.316588e-01</td>\n",
       "      <td>6.777563e+00</td>\n",
       "      <td>1.923553e+00</td>\n",
       "      <td>0.0</td>\n",
       "      <td>7.316588e-01</td>\n",
       "      <td>6.354890e+00</td>\n",
       "      <td>6.530756e+00</td>\n",
       "      <td>NaN</td>\n",
       "      <td>...</td>\n",
       "      <td>NaN</td>\n",
       "      <td>9.338412e+00</td>\n",
       "      <td>9.697334e+00</td>\n",
       "      <td>3.031381e+00</td>\n",
       "      <td>8.039912e-01</td>\n",
       "      <td>NaN</td>\n",
       "      <td>0.943341</td>\n",
       "      <td>NaN</td>\n",
       "      <td>3.783297</td>\n",
       "      <td>NaN</td>\n",
       "    </tr>\n",
       "    <tr>\n",
       "      <th>min</th>\n",
       "      <td>5.013940e+05</td>\n",
       "      <td>6.000000e+01</td>\n",
       "      <td>1.000000e+01</td>\n",
       "      <td>0.000000e+00</td>\n",
       "      <td>0.000000e+00</td>\n",
       "      <td>2016.0</td>\n",
       "      <td>1.000000e+01</td>\n",
       "      <td>1.000000e+01</td>\n",
       "      <td>-1.110000e+01</td>\n",
       "      <td>NaN</td>\n",
       "      <td>...</td>\n",
       "      <td>NaN</td>\n",
       "      <td>1.000000e+00</td>\n",
       "      <td>0.000000e+00</td>\n",
       "      <td>4.000000e-01</td>\n",
       "      <td>9.876000e+01</td>\n",
       "      <td>NaN</td>\n",
       "      <td>25.000000</td>\n",
       "      <td>NaN</td>\n",
       "      <td>-20.000000</td>\n",
       "      <td>NaN</td>\n",
       "    </tr>\n",
       "    <tr>\n",
       "      <th>25%</th>\n",
       "      <td>5.406470e+05</td>\n",
       "      <td>3.940000e+02</td>\n",
       "      <td>1.000000e+01</td>\n",
       "      <td>1.200000e+01</td>\n",
       "      <td>1.000000e+00</td>\n",
       "      <td>2016.0</td>\n",
       "      <td>1.000000e+01</td>\n",
       "      <td>1.400000e+01</td>\n",
       "      <td>3.600000e+00</td>\n",
       "      <td>NaN</td>\n",
       "      <td>...</td>\n",
       "      <td>NaN</td>\n",
       "      <td>1.200000e+01</td>\n",
       "      <td>1.100000e+01</td>\n",
       "      <td>1.610000e+01</td>\n",
       "      <td>1.002500e+02</td>\n",
       "      <td>NaN</td>\n",
       "      <td>26.000000</td>\n",
       "      <td>NaN</td>\n",
       "      <td>-11.000000</td>\n",
       "      <td>NaN</td>\n",
       "    </tr>\n",
       "    <tr>\n",
       "      <th>50%</th>\n",
       "      <td>6.106360e+05</td>\n",
       "      <td>5.940000e+02</td>\n",
       "      <td>1.100000e+01</td>\n",
       "      <td>1.600000e+01</td>\n",
       "      <td>3.000000e+00</td>\n",
       "      <td>2016.0</td>\n",
       "      <td>1.100000e+01</td>\n",
       "      <td>1.900000e+01</td>\n",
       "      <td>7.400000e+00</td>\n",
       "      <td>NaN</td>\n",
       "      <td>...</td>\n",
       "      <td>NaN</td>\n",
       "      <td>2.400000e+01</td>\n",
       "      <td>1.500000e+01</td>\n",
       "      <td>1.610000e+01</td>\n",
       "      <td>1.008600e+02</td>\n",
       "      <td>NaN</td>\n",
       "      <td>26.000000</td>\n",
       "      <td>NaN</td>\n",
       "      <td>-8.000000</td>\n",
       "      <td>NaN</td>\n",
       "    </tr>\n",
       "    <tr>\n",
       "      <th>75%</th>\n",
       "      <td>6.501320e+05</td>\n",
       "      <td>8.800000e+02</td>\n",
       "      <td>1.100000e+01</td>\n",
       "      <td>2.100000e+01</td>\n",
       "      <td>4.000000e+00</td>\n",
       "      <td>2016.0</td>\n",
       "      <td>1.100000e+01</td>\n",
       "      <td>2.500000e+01</td>\n",
       "      <td>1.220000e+01</td>\n",
       "      <td>NaN</td>\n",
       "      <td>...</td>\n",
       "      <td>NaN</td>\n",
       "      <td>2.900000e+01</td>\n",
       "      <td>2.400000e+01</td>\n",
       "      <td>1.610000e+01</td>\n",
       "      <td>1.014700e+02</td>\n",
       "      <td>NaN</td>\n",
       "      <td>27.000000</td>\n",
       "      <td>NaN</td>\n",
       "      <td>-6.000000</td>\n",
       "      <td>NaN</td>\n",
       "    </tr>\n",
       "    <tr>\n",
       "      <th>max</th>\n",
       "      <td>7.123810e+05</td>\n",
       "      <td>1.439100e+04</td>\n",
       "      <td>1.200000e+01</td>\n",
       "      <td>2.300000e+01</td>\n",
       "      <td>6.000000e+00</td>\n",
       "      <td>2016.0</td>\n",
       "      <td>1.200000e+01</td>\n",
       "      <td>3.100000e+01</td>\n",
       "      <td>2.270000e+01</td>\n",
       "      <td>NaN</td>\n",
       "      <td>...</td>\n",
       "      <td>NaN</td>\n",
       "      <td>3.600000e+01</td>\n",
       "      <td>6.100000e+01</td>\n",
       "      <td>1.610000e+01</td>\n",
       "      <td>1.030900e+02</td>\n",
       "      <td>NaN</td>\n",
       "      <td>28.000000</td>\n",
       "      <td>NaN</td>\n",
       "      <td>-2.000000</td>\n",
       "      <td>NaN</td>\n",
       "    </tr>\n",
       "  </tbody>\n",
       "</table>\n",
       "<p>8 rows × 23 columns</p>\n",
       "</div>"
      ],
      "text/plain": [
       "            trip_id  trip_duration_seconds    trip_month  trip_start_hour  \\\n",
       "count  3.284246e+06           3.284246e+06  3.284246e+06     3.284246e+06   \n",
       "mean   5.985200e+05           7.500344e+02  1.070217e+01     1.503079e+01   \n",
       "std    6.352197e+04           8.413695e+02  7.316588e-01     6.777563e+00   \n",
       "min    5.013940e+05           6.000000e+01  1.000000e+01     0.000000e+00   \n",
       "25%    5.406470e+05           3.940000e+02  1.000000e+01     1.200000e+01   \n",
       "50%    6.106360e+05           5.940000e+02  1.100000e+01     1.600000e+01   \n",
       "75%    6.501320e+05           8.800000e+02  1.100000e+01     2.100000e+01   \n",
       "max    7.123810e+05           1.439100e+04  1.200000e+01     2.300000e+01   \n",
       "\n",
       "        day_of_week       year         month           day          temp  \\\n",
       "count  3.284246e+06  3284246.0  3.284246e+06  3.284246e+06  3.284246e+06   \n",
       "mean   2.777930e+00     2016.0  1.070217e+01  1.945613e+01  7.540466e+00   \n",
       "std    1.923553e+00        0.0  7.316588e-01  6.354890e+00  6.530756e+00   \n",
       "min    0.000000e+00     2016.0  1.000000e+01  1.000000e+01 -1.110000e+01   \n",
       "25%    1.000000e+00     2016.0  1.000000e+01  1.400000e+01  3.600000e+00   \n",
       "50%    3.000000e+00     2016.0  1.100000e+01  1.900000e+01  7.400000e+00   \n",
       "75%    4.000000e+00     2016.0  1.100000e+01  2.500000e+01  1.220000e+01   \n",
       "max    6.000000e+00     2016.0  1.200000e+01  3.100000e+01  2.270000e+01   \n",
       "\n",
       "       temp flag  ...  rel hum flag  wind dir (10s degrees)      wind_spd  \\\n",
       "count        0.0  ...           0.0            3.150433e+06  3.284246e+06   \n",
       "mean         NaN  ...           NaN            2.121335e+01  1.751053e+01   \n",
       "std          NaN  ...           NaN            9.338412e+00  9.697334e+00   \n",
       "min          NaN  ...           NaN            1.000000e+00  0.000000e+00   \n",
       "25%          NaN  ...           NaN            1.200000e+01  1.100000e+01   \n",
       "50%          NaN  ...           NaN            2.400000e+01  1.500000e+01   \n",
       "75%          NaN  ...           NaN            2.900000e+01  2.400000e+01   \n",
       "max          NaN  ...           NaN            3.600000e+01  6.100000e+01   \n",
       "\n",
       "         visibility  stn press (kPa)  stn press flag          hmdx  hmdx Flag  \\\n",
       "count  3.284246e+06     3.284246e+06             0.0  55924.000000        0.0   \n",
       "mean   1.509810e+01     1.008337e+02             NaN     26.311101        NaN   \n",
       "std    3.031381e+00     8.039912e-01             NaN      0.943341        NaN   \n",
       "min    4.000000e-01     9.876000e+01             NaN     25.000000        NaN   \n",
       "25%    1.610000e+01     1.002500e+02             NaN     26.000000        NaN   \n",
       "50%    1.610000e+01     1.008600e+02             NaN     26.000000        NaN   \n",
       "75%    1.610000e+01     1.014700e+02             NaN     27.000000        NaN   \n",
       "max    1.610000e+01     1.030900e+02             NaN     28.000000        NaN   \n",
       "\n",
       "          wind chill  wind chill flag  \n",
       "count  465023.000000              0.0  \n",
       "mean       -9.169824              NaN  \n",
       "std         3.783297              NaN  \n",
       "min       -20.000000              NaN  \n",
       "25%       -11.000000              NaN  \n",
       "50%        -8.000000              NaN  \n",
       "75%        -6.000000              NaN  \n",
       "max        -2.000000              NaN  \n",
       "\n",
       "[8 rows x 23 columns]"
      ]
     },
     "execution_count": 37,
     "metadata": {},
     "output_type": "execute_result"
    }
   ],
   "source": [
    "df.describe()"
   ]
  },
  {
   "cell_type": "code",
   "execution_count": 38,
   "metadata": {},
   "outputs": [
    {
     "data": {
      "image/png": "[encoded data removed]",
      "text/plain": [
       "<Figure size 432x288 with 1 Axes>"
      ]
     },
     "metadata": {},
     "output_type": "display_data"
    }
   ],
   "source": [
    "plt.hist(df['trip_start_hour'], len(df['trip_start_hour'].unique()), density=True, facecolor='g', alpha=0.75)\n",
    "plt.xlabel('Start Hour');\n",
    "plt.ylabel('Frequency');\n",
    "plt.title('Histogram of Trip Start Hour');"
   ]
  },
  {
   "cell_type": "code",
   "execution_count": 39,
   "metadata": {
    "scrolled": true
   },
   "outputs": [
    {
     "data": {
      "image/png": "[encoded data removed]",
      "text/plain": [
       "<Figure size 432x288 with 1 Axes>"
      ]
     },
     "metadata": {},
     "output_type": "display_data"
    }
   ],
   "source": [
    "plt.hist(df['day_of_week'], len(df['day_of_week'].unique()), density=True, facecolor='b', alpha=0.75)\n",
    "plt.xlabel('Day of Week');\n",
    "plt.ylabel('Frequency');\n",
    "plt.title('Histogram of Trip Day');"
   ]
  },
  {
   "cell_type": "markdown",
   "metadata": {},
   "source": [
    "## Multicollinearity - Condition number\n",
    "One way to assess multicollinearity is to compute the condition number. Values over 20 are worrisome (see Greene 4.9). The first step is to normalize the independent variables to have unit length."
   ]
  },
  {
   "cell_type": "code",
   "execution_count": 42,
   "metadata": {},
   "outputs": [],
   "source": [
    "names = ['trip_start_hour', 'temp', 'wind_spd', 'rel_hum']\n",
    "X = df.loc[:, names]\n",
    "norm_x = X.values\n",
    "for i, name in enumerate(X):\n",
    "    if name == \"const\":\n",
    "        continue\n",
    "    norm_x[:, i] = X[name] / np.linalg.norm(X[name])\n",
    "norm_xtx = np.dot(norm_x.T, norm_x)"
   ]
  },
  {
   "cell_type": "markdown",
   "metadata": {},
   "source": [
    "Then, we take the square root of the ratio of the biggest to the smallest eigen values."
   ]
  },
  {
   "cell_type": "code",
   "execution_count": 43,
   "metadata": {},
   "outputs": [
    {
     "name": "stdout",
     "output_type": "stream",
     "text": [
      "6.081828344074039\n"
     ]
    }
   ],
   "source": [
    "eigs = np.linalg.eigvals(norm_xtx)\n",
    "condition_number = np.sqrt(eigs.max() / eigs.min())\n",
    "print(condition_number)"
   ]
  },
  {
   "cell_type": "markdown",
   "metadata": {},
   "source": [
    "It seems multicollinearity is not an issue here."
   ]
  },
  {
   "cell_type": "markdown",
   "metadata": {},
   "source": [
    "## Normality of residuals\n",
    "### Jarque-Bera test"
   ]
  },
  {
   "cell_type": "code",
   "execution_count": 49,
   "metadata": {},
   "outputs": [
    {
     "data": {
      "text/plain": [
       "[('Jarque-Bera', 1115712248.24051),\n",
       " ('Chi^2 two-tail prob.', 0.0),\n",
       " ('Skew', 7.601629761266371),\n",
       " ('Kurtosis', 92.00592479723178)]"
      ]
     },
     "execution_count": 49,
     "metadata": {},
     "output_type": "execute_result"
    }
   ],
   "source": [
    "name = [\"Jarque-Bera\", \"Chi^2 two-tail prob.\", \"Skew\", \"Kurtosis\"]\n",
    "test = sms.jarque_bera(res.resid)\n",
    "lzip(name, test)"
   ]
  },
  {
   "cell_type": "markdown",
   "metadata": {},
   "source": [
    "### Omni test"
   ]
  },
  {
   "cell_type": "code",
   "execution_count": 50,
   "metadata": {},
   "outputs": [
    {
     "data": {
      "text/plain": [
       "[('Chi^2', 4373754.830439826), ('Two-tail probability', 0.0)]"
      ]
     },
     "execution_count": 50,
     "metadata": {},
     "output_type": "execute_result"
    }
   ],
   "source": [
    "name = [\"Chi^2\", \"Two-tail probability\"]\n",
    "test = sms.omni_normtest(res.resid)\n",
    "lzip(name, test)"
   ]
  },
  {
   "cell_type": "markdown",
   "metadata": {},
   "source": [
    "Residuals are not normally distributed for this model."
   ]
  },
  {
   "cell_type": "markdown",
   "metadata": {},
   "source": [
    "## Heteroskedasticity tests\n",
    "### Breush-Pagan test"
   ]
  },
  {
   "cell_type": "code",
   "execution_count": 51,
   "metadata": {},
   "outputs": [
    {
     "data": {
      "text/plain": [
       "[('Lagrange multiplier statistic', 157728.47807392376),\n",
       " ('p-value', 0.0),\n",
       " ('f-value', 15062.277811009506),\n",
       " ('f p-value', 0.0)]"
      ]
     },
     "execution_count": 51,
     "metadata": {},
     "output_type": "execute_result"
    }
   ],
   "source": [
    "name = [\"Lagrange multiplier statistic\", \"p-value\", \"f-value\", \"f p-value\"]\n",
    "test = sms.het_breuschpagan(res.resid, res.model.exog)\n",
    "lzip(name, test)"
   ]
  },
  {
   "cell_type": "markdown",
   "metadata": {},
   "source": [
    "### Goldfeld-Quandt test"
   ]
  },
  {
   "cell_type": "code",
   "execution_count": 52,
   "metadata": {},
   "outputs": [
    {
     "data": {
      "text/plain": [
       "[('F statistic', 0.5255813700234377), ('p-value', 0.9999999999999999)]"
      ]
     },
     "execution_count": 52,
     "metadata": {},
     "output_type": "execute_result"
    }
   ],
   "source": [
    "name = [\"F statistic\", \"p-value\"]\n",
    "test = sms.het_goldfeldquandt(res.resid, res.model.exog)\n",
    "lzip(name, test)"
   ]
  },
  {
   "cell_type": "markdown",
   "metadata": {},
   "source": [
    "The Breush-Pagan test suggests the residuals are heteroskedastic but the Goldfeld-Quandt suggests they are not. It is not uncommon to get conflicting results from tests."
   ]
  },
  {
   "cell_type": "code",
   "execution_count": null,
   "metadata": {},
   "outputs": [],
   "source": []
  }
 ],
 "metadata": {
  "kernelspec": {
   "display_name": "Python 3 (ipykernel)",
   "language": "python",
   "name": "python3"
  },
  "language_info": {
   "codemirror_mode": {
    "name": "ipython",
    "version": 3
   },
   "file_extension": ".py",
   "mimetype": "text/x-python",
   "name": "python",
   "nbconvert_exporter": "python",
   "pygments_lexer": "ipython3",
   "version": "3.9.13"
  }
 },
 "nbformat": 4,
 "nbformat_minor": 2
}
